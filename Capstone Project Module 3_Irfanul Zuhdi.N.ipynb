{
 "cells": [
  {
   "cell_type": "markdown",
   "metadata": {},
   "source": [
    "# **Capstone Project Module 3 - Irfanul Zuhdi.N**\n",
    "\n",
    "***"
   ]
  },
  {
   "cell_type": "markdown",
   "metadata": {},
   "source": [
    "Dataset: data_daegu_apartment.csv"
   ]
  },
  {
   "cell_type": "markdown",
   "metadata": {},
   "source": [
    "# **Apartment Daegu - South Korea**\n",
    "\n",
    "Contents of Data Science:\n",
    "1. Business Problem Understanding\n",
    "2. Data Understanding\n",
    "3. Data Preprocessing\n",
    "4. Data Modeling\n",
    "5. Conclusion\n",
    "6. Recommendation"
   ]
  },
  {
   "cell_type": "markdown",
   "metadata": {},
   "source": [
    "## **Business Problem Understanding**\n",
    "\n",
    "**1. Context**\n",
    "\n",
    "Daegu merupakan kota metropolitan terbesar ke-4 di Korea Selatan setelah Seoul, Busan, dan Incheon. Keberadaan Kota Daegu di perbukitan dengan pemandangan yang Indah dan penuh dengan kawasan wisata yang menarik, menjadikan Daegu sebagai target wisatawan lokal maupun mancanegara. Kota metropolitan yang padat akan penduduk, menjadikan apartment sebagai pilihan tepat sebagai tempat tinggal. Berbagai macam pertimbangan untuk memilih apartment terbaik dengan harga yang terjangkau. Pemilik properti akan membertimbangkan harga jual apartement dari fitur atau fasilitas yang diberikan, hanya saja mereka tidak bisa menempatkan harga yang tepat untuk penjualan apartment mereka. Fitur-fitur yang menjadi pertimbangan tersebut akan memberikan pengaruh terhadap harga sewa atau jual dari apartement tersebut. Hal ini juga akan memudahkan customer jika ingin mencari apartment sesuai dengan fasilitas yang mereka inginkan dengan harga yang sesuai.\n",
    "\n",
    "**2. Problem Statement**\n",
    "\n",
    "Dalam melakukan penjualan atau penyewaan dalam sektor real estat, seperti dalam masalah bisnis ini memiliki tantangan terbesar yaitu, penentuan harga jual/sewa apartemen di daerah Daegu, Korea Selatan berdasarkan fasilitas atau fitur-fitur yang diberikan.\n",
    "Oleh karena itu, dibutuhkan penyelesaian masalah yang dapat mengatasi masalah ini. Pemecahan masalah ini nantinya diharapkan dapat memberi keuntungan secara finansial kepada pemilik properti untuk menentukan harga jual/sewa apartemen mereka menyesuaikan dengan harga jual/sewa apartemen yang sudah ada berdasarkan dengan fasilitas yang diberikan pula. Dengan penjelasan lain, agar harga jual/sewa apartemen dalam wilayah Daegu memiliki rata-rata harga yang tidak berbeda jauh antar satu dengan yang lainnya menyesuaikan fasilitas yang diberikan.\n",
    "\n",
    "**3. Goal**\n",
    "\n",
    "Untuk melakukan prediksi harga jual/sewa apartment di Daegu, Korea Selatan\n",
    "\n",
    "**4. Analytic Approach**\n",
    "\n",
    "Jadi yang perlu dilakukan untuk menemukan harga jual yang sesuai dengan pengaruh fitur-fitur yang ada adalah pertama, melakukan analisis data untuk mengetahui informasi dari data yang ada. Selanjutnya membangun algoritma untuk menemukan model regresi yang akan membantu pemiliki properti menentukan harga jual/sewa apartment sesuai fitur yang ada pada apartment. Selain itu, menemukan fitur yang berpengaruh besar terhadap target('SalePrice') agar model yang dibangun lebih simpel, namun tetap memiliki akurat yang baik.\n",
    "\n",
    "**5. Metric Evaluation**\n",
    "\n",
    "Metrik yang akan digunakan untuk model regresi yang dibangun adalah RMSE, karena melakukan prediksi terhadap harga jual/sewa dari apartement."
   ]
  },
  {
   "cell_type": "markdown",
   "metadata": {},
   "source": [
    "## **Data Understanding**\n",
    "\n",
    "- Dataset merupakan data harga jual apartment Daegu dengan berbagai macam tahun dibangunnya. Bangunan yang paling tua didirikan tahun 1978 dan bangunan paling baru didirikan tahun 2015.\n",
    "- Setiap baris data merepresentasikan informasi terkait jarak apartment ke berbagai bagian penting, tahun berdiri, dan harga jual.\n",
    "\n",
    "**Attributes Information**\n",
    "\n",
    "Features\n",
    "\n",
    "| **Attribute** | **Data Type** | **Description** |\n",
    "| --- | --- | --- |\n",
    "| HallwayType | Object | Tipe Hallway dari apartment |\n",
    "| TimeToSubway | Object | Waktu yang dibutuhkan untuk sampai ke subway terdekat|\n",
    "| SubwayStation | Object | Nama subway terdekat |\n",
    "| N_FacilitiesNearBy(ETC) | Float | Total fasilitas ETC terdekat |\n",
    "| N_FacilitiesNearBy(PublicOffice) | Float | Total kantor publik terdekat |\n",
    "| N_SchoolNearBy(University) | Float | Total universitas terdekat |\n",
    "| N_Parkinglot(Basement) | Float | Luas area parkir apartment |\n",
    "| YearBuilt | Integer | Tahun dibangunnya apartment  |\n",
    "| N_FacilitiesInApt | Integer | Total fasilitas dalam apartemen|\n",
    "| Size(sqf) | Integer | Ukuran apartment |\n",
    "| SalePrice | Integer | Harga jual apartment |\n",
    "\n",
    "<br>"
   ]
  },
  {
   "cell_type": "code",
   "execution_count": 1,
   "metadata": {},
   "outputs": [],
   "source": [
    "# Import library yang dibutuhkan untuk eksplorasi dataset\n",
    "import pandas as pd\n",
    "import numpy as np\n",
    "import matplotlib.pyplot as plt\n",
    "import seaborn as sns\n",
    "\n",
    "import warnings\n",
    "warnings.filterwarnings('ignore')"
   ]
  },
  {
   "cell_type": "code",
   "execution_count": 2,
   "metadata": {},
   "outputs": [
    {
     "data": {
      "text/html": [
       "<div>\n",
       "<style scoped>\n",
       "    .dataframe tbody tr th:only-of-type {\n",
       "        vertical-align: middle;\n",
       "    }\n",
       "\n",
       "    .dataframe tbody tr th {\n",
       "        vertical-align: top;\n",
       "    }\n",
       "\n",
       "    .dataframe thead th {\n",
       "        text-align: right;\n",
       "    }\n",
       "</style>\n",
       "<table border=\"1\" class=\"dataframe\">\n",
       "  <thead>\n",
       "    <tr style=\"text-align: right;\">\n",
       "      <th></th>\n",
       "      <th>HallwayType</th>\n",
       "      <th>TimeToSubway</th>\n",
       "      <th>SubwayStation</th>\n",
       "      <th>N_FacilitiesNearBy(ETC)</th>\n",
       "      <th>N_FacilitiesNearBy(PublicOffice)</th>\n",
       "      <th>N_SchoolNearBy(University)</th>\n",
       "      <th>N_Parkinglot(Basement)</th>\n",
       "      <th>YearBuilt</th>\n",
       "      <th>N_FacilitiesInApt</th>\n",
       "      <th>Size(sqf)</th>\n",
       "      <th>SalePrice</th>\n",
       "    </tr>\n",
       "  </thead>\n",
       "  <tbody>\n",
       "    <tr>\n",
       "      <th>0</th>\n",
       "      <td>terraced</td>\n",
       "      <td>0-5min</td>\n",
       "      <td>Kyungbuk_uni_hospital</td>\n",
       "      <td>0.0</td>\n",
       "      <td>3.0</td>\n",
       "      <td>2.0</td>\n",
       "      <td>1270.0</td>\n",
       "      <td>2007</td>\n",
       "      <td>10</td>\n",
       "      <td>1387</td>\n",
       "      <td>346017</td>\n",
       "    </tr>\n",
       "    <tr>\n",
       "      <th>1</th>\n",
       "      <td>terraced</td>\n",
       "      <td>10min~15min</td>\n",
       "      <td>Kyungbuk_uni_hospital</td>\n",
       "      <td>1.0</td>\n",
       "      <td>5.0</td>\n",
       "      <td>1.0</td>\n",
       "      <td>0.0</td>\n",
       "      <td>1986</td>\n",
       "      <td>4</td>\n",
       "      <td>914</td>\n",
       "      <td>150442</td>\n",
       "    </tr>\n",
       "    <tr>\n",
       "      <th>2</th>\n",
       "      <td>mixed</td>\n",
       "      <td>15min~20min</td>\n",
       "      <td>Chil-sung-market</td>\n",
       "      <td>1.0</td>\n",
       "      <td>7.0</td>\n",
       "      <td>3.0</td>\n",
       "      <td>56.0</td>\n",
       "      <td>1997</td>\n",
       "      <td>5</td>\n",
       "      <td>558</td>\n",
       "      <td>61946</td>\n",
       "    </tr>\n",
       "    <tr>\n",
       "      <th>3</th>\n",
       "      <td>mixed</td>\n",
       "      <td>5min~10min</td>\n",
       "      <td>Bangoge</td>\n",
       "      <td>5.0</td>\n",
       "      <td>5.0</td>\n",
       "      <td>4.0</td>\n",
       "      <td>798.0</td>\n",
       "      <td>2005</td>\n",
       "      <td>7</td>\n",
       "      <td>914</td>\n",
       "      <td>165486</td>\n",
       "    </tr>\n",
       "    <tr>\n",
       "      <th>4</th>\n",
       "      <td>terraced</td>\n",
       "      <td>0-5min</td>\n",
       "      <td>Sin-nam</td>\n",
       "      <td>0.0</td>\n",
       "      <td>1.0</td>\n",
       "      <td>2.0</td>\n",
       "      <td>536.0</td>\n",
       "      <td>2006</td>\n",
       "      <td>5</td>\n",
       "      <td>1743</td>\n",
       "      <td>311504</td>\n",
       "    </tr>\n",
       "    <tr>\n",
       "      <th>...</th>\n",
       "      <td>...</td>\n",
       "      <td>...</td>\n",
       "      <td>...</td>\n",
       "      <td>...</td>\n",
       "      <td>...</td>\n",
       "      <td>...</td>\n",
       "      <td>...</td>\n",
       "      <td>...</td>\n",
       "      <td>...</td>\n",
       "      <td>...</td>\n",
       "      <td>...</td>\n",
       "    </tr>\n",
       "    <tr>\n",
       "      <th>4118</th>\n",
       "      <td>terraced</td>\n",
       "      <td>0-5min</td>\n",
       "      <td>Sin-nam</td>\n",
       "      <td>0.0</td>\n",
       "      <td>3.0</td>\n",
       "      <td>2.0</td>\n",
       "      <td>475.0</td>\n",
       "      <td>2008</td>\n",
       "      <td>8</td>\n",
       "      <td>914</td>\n",
       "      <td>323008</td>\n",
       "    </tr>\n",
       "    <tr>\n",
       "      <th>4119</th>\n",
       "      <td>mixed</td>\n",
       "      <td>15min~20min</td>\n",
       "      <td>Myung-duk</td>\n",
       "      <td>5.0</td>\n",
       "      <td>6.0</td>\n",
       "      <td>5.0</td>\n",
       "      <td>536.0</td>\n",
       "      <td>1993</td>\n",
       "      <td>4</td>\n",
       "      <td>1451</td>\n",
       "      <td>242477</td>\n",
       "    </tr>\n",
       "    <tr>\n",
       "      <th>4120</th>\n",
       "      <td>mixed</td>\n",
       "      <td>15min~20min</td>\n",
       "      <td>Myung-duk</td>\n",
       "      <td>5.0</td>\n",
       "      <td>6.0</td>\n",
       "      <td>5.0</td>\n",
       "      <td>536.0</td>\n",
       "      <td>1993</td>\n",
       "      <td>4</td>\n",
       "      <td>1761</td>\n",
       "      <td>168141</td>\n",
       "    </tr>\n",
       "    <tr>\n",
       "      <th>4121</th>\n",
       "      <td>corridor</td>\n",
       "      <td>5min~10min</td>\n",
       "      <td>Daegu</td>\n",
       "      <td>2.0</td>\n",
       "      <td>5.0</td>\n",
       "      <td>0.0</td>\n",
       "      <td>76.0</td>\n",
       "      <td>1985</td>\n",
       "      <td>3</td>\n",
       "      <td>676</td>\n",
       "      <td>73451</td>\n",
       "    </tr>\n",
       "    <tr>\n",
       "      <th>4122</th>\n",
       "      <td>terraced</td>\n",
       "      <td>0-5min</td>\n",
       "      <td>Kyungbuk_uni_hospital</td>\n",
       "      <td>0.0</td>\n",
       "      <td>3.0</td>\n",
       "      <td>2.0</td>\n",
       "      <td>1270.0</td>\n",
       "      <td>2007</td>\n",
       "      <td>10</td>\n",
       "      <td>868</td>\n",
       "      <td>250442</td>\n",
       "    </tr>\n",
       "  </tbody>\n",
       "</table>\n",
       "<p>4123 rows × 11 columns</p>\n",
       "</div>"
      ],
      "text/plain": [
       "     HallwayType TimeToSubway          SubwayStation  N_FacilitiesNearBy(ETC)  \\\n",
       "0       terraced       0-5min  Kyungbuk_uni_hospital                      0.0   \n",
       "1       terraced  10min~15min  Kyungbuk_uni_hospital                      1.0   \n",
       "2          mixed  15min~20min       Chil-sung-market                      1.0   \n",
       "3          mixed   5min~10min                Bangoge                      5.0   \n",
       "4       terraced       0-5min                Sin-nam                      0.0   \n",
       "...          ...          ...                    ...                      ...   \n",
       "4118    terraced       0-5min                Sin-nam                      0.0   \n",
       "4119       mixed  15min~20min              Myung-duk                      5.0   \n",
       "4120       mixed  15min~20min              Myung-duk                      5.0   \n",
       "4121    corridor   5min~10min                  Daegu                      2.0   \n",
       "4122    terraced       0-5min  Kyungbuk_uni_hospital                      0.0   \n",
       "\n",
       "      N_FacilitiesNearBy(PublicOffice)  N_SchoolNearBy(University)  \\\n",
       "0                                  3.0                         2.0   \n",
       "1                                  5.0                         1.0   \n",
       "2                                  7.0                         3.0   \n",
       "3                                  5.0                         4.0   \n",
       "4                                  1.0                         2.0   \n",
       "...                                ...                         ...   \n",
       "4118                               3.0                         2.0   \n",
       "4119                               6.0                         5.0   \n",
       "4120                               6.0                         5.0   \n",
       "4121                               5.0                         0.0   \n",
       "4122                               3.0                         2.0   \n",
       "\n",
       "      N_Parkinglot(Basement)  YearBuilt  N_FacilitiesInApt  Size(sqf)  \\\n",
       "0                     1270.0       2007                 10       1387   \n",
       "1                        0.0       1986                  4        914   \n",
       "2                       56.0       1997                  5        558   \n",
       "3                      798.0       2005                  7        914   \n",
       "4                      536.0       2006                  5       1743   \n",
       "...                      ...        ...                ...        ...   \n",
       "4118                   475.0       2008                  8        914   \n",
       "4119                   536.0       1993                  4       1451   \n",
       "4120                   536.0       1993                  4       1761   \n",
       "4121                    76.0       1985                  3        676   \n",
       "4122                  1270.0       2007                 10        868   \n",
       "\n",
       "      SalePrice  \n",
       "0        346017  \n",
       "1        150442  \n",
       "2         61946  \n",
       "3        165486  \n",
       "4        311504  \n",
       "...         ...  \n",
       "4118     323008  \n",
       "4119     242477  \n",
       "4120     168141  \n",
       "4121      73451  \n",
       "4122     250442  \n",
       "\n",
       "[4123 rows x 11 columns]"
      ]
     },
     "execution_count": 2,
     "metadata": {},
     "output_type": "execute_result"
    }
   ],
   "source": [
    "# Import dataset\n",
    "df = pd.read_csv('data_daegu_apartment.csv')\n",
    "df"
   ]
  },
  {
   "cell_type": "code",
   "execution_count": 3,
   "metadata": {},
   "outputs": [
    {
     "name": "stdout",
     "output_type": "stream",
     "text": [
      "<class 'pandas.core.frame.DataFrame'>\n",
      "RangeIndex: 4123 entries, 0 to 4122\n",
      "Data columns (total 11 columns):\n",
      " #   Column                            Non-Null Count  Dtype  \n",
      "---  ------                            --------------  -----  \n",
      " 0   HallwayType                       4123 non-null   object \n",
      " 1   TimeToSubway                      4123 non-null   object \n",
      " 2   SubwayStation                     4123 non-null   object \n",
      " 3   N_FacilitiesNearBy(ETC)           4123 non-null   float64\n",
      " 4   N_FacilitiesNearBy(PublicOffice)  4123 non-null   float64\n",
      " 5   N_SchoolNearBy(University)        4123 non-null   float64\n",
      " 6   N_Parkinglot(Basement)            4123 non-null   float64\n",
      " 7   YearBuilt                         4123 non-null   int64  \n",
      " 8   N_FacilitiesInApt                 4123 non-null   int64  \n",
      " 9   Size(sqf)                         4123 non-null   int64  \n",
      " 10  SalePrice                         4123 non-null   int64  \n",
      "dtypes: float64(4), int64(4), object(3)\n",
      "memory usage: 354.4+ KB\n"
     ]
    }
   ],
   "source": [
    "# Cek informasi dataset\n",
    "df.info()"
   ]
  },
  {
   "cell_type": "markdown",
   "metadata": {},
   "source": [
    "Dari informasi yang didapatkan, bahwa total 4123 baris data yang dimiliki dengan berbagai tipe data."
   ]
  },
  {
   "cell_type": "code",
   "execution_count": 4,
   "metadata": {},
   "outputs": [
    {
     "data": {
      "text/html": [
       "<div>\n",
       "<style scoped>\n",
       "    .dataframe tbody tr th:only-of-type {\n",
       "        vertical-align: middle;\n",
       "    }\n",
       "\n",
       "    .dataframe tbody tr th {\n",
       "        vertical-align: top;\n",
       "    }\n",
       "\n",
       "    .dataframe thead th {\n",
       "        text-align: right;\n",
       "    }\n",
       "</style>\n",
       "<table border=\"1\" class=\"dataframe\">\n",
       "  <thead>\n",
       "    <tr style=\"text-align: right;\">\n",
       "      <th></th>\n",
       "      <th>N_FacilitiesNearBy(ETC)</th>\n",
       "      <th>N_FacilitiesNearBy(PublicOffice)</th>\n",
       "      <th>N_SchoolNearBy(University)</th>\n",
       "      <th>N_Parkinglot(Basement)</th>\n",
       "      <th>YearBuilt</th>\n",
       "      <th>N_FacilitiesInApt</th>\n",
       "      <th>Size(sqf)</th>\n",
       "      <th>SalePrice</th>\n",
       "    </tr>\n",
       "  </thead>\n",
       "  <tbody>\n",
       "    <tr>\n",
       "      <th>count</th>\n",
       "      <td>4123.000000</td>\n",
       "      <td>4123.000000</td>\n",
       "      <td>4123.000000</td>\n",
       "      <td>4123.000000</td>\n",
       "      <td>4123.000000</td>\n",
       "      <td>4123.000000</td>\n",
       "      <td>4123.000000</td>\n",
       "      <td>4123.000000</td>\n",
       "    </tr>\n",
       "    <tr>\n",
       "      <th>mean</th>\n",
       "      <td>1.930876</td>\n",
       "      <td>4.135338</td>\n",
       "      <td>2.746301</td>\n",
       "      <td>568.979141</td>\n",
       "      <td>2002.999757</td>\n",
       "      <td>5.817851</td>\n",
       "      <td>954.630851</td>\n",
       "      <td>221767.926995</td>\n",
       "    </tr>\n",
       "    <tr>\n",
       "      <th>std</th>\n",
       "      <td>2.198832</td>\n",
       "      <td>1.802640</td>\n",
       "      <td>1.496610</td>\n",
       "      <td>410.372742</td>\n",
       "      <td>8.905768</td>\n",
       "      <td>2.340507</td>\n",
       "      <td>383.805648</td>\n",
       "      <td>106739.839945</td>\n",
       "    </tr>\n",
       "    <tr>\n",
       "      <th>min</th>\n",
       "      <td>0.000000</td>\n",
       "      <td>0.000000</td>\n",
       "      <td>0.000000</td>\n",
       "      <td>0.000000</td>\n",
       "      <td>1978.000000</td>\n",
       "      <td>1.000000</td>\n",
       "      <td>135.000000</td>\n",
       "      <td>32743.000000</td>\n",
       "    </tr>\n",
       "    <tr>\n",
       "      <th>25%</th>\n",
       "      <td>0.000000</td>\n",
       "      <td>3.000000</td>\n",
       "      <td>2.000000</td>\n",
       "      <td>184.000000</td>\n",
       "      <td>1993.000000</td>\n",
       "      <td>4.000000</td>\n",
       "      <td>644.000000</td>\n",
       "      <td>144752.000000</td>\n",
       "    </tr>\n",
       "    <tr>\n",
       "      <th>50%</th>\n",
       "      <td>1.000000</td>\n",
       "      <td>5.000000</td>\n",
       "      <td>2.000000</td>\n",
       "      <td>536.000000</td>\n",
       "      <td>2006.000000</td>\n",
       "      <td>5.000000</td>\n",
       "      <td>910.000000</td>\n",
       "      <td>209734.000000</td>\n",
       "    </tr>\n",
       "    <tr>\n",
       "      <th>75%</th>\n",
       "      <td>5.000000</td>\n",
       "      <td>5.000000</td>\n",
       "      <td>4.000000</td>\n",
       "      <td>798.000000</td>\n",
       "      <td>2008.000000</td>\n",
       "      <td>7.000000</td>\n",
       "      <td>1149.000000</td>\n",
       "      <td>291150.000000</td>\n",
       "    </tr>\n",
       "    <tr>\n",
       "      <th>max</th>\n",
       "      <td>5.000000</td>\n",
       "      <td>7.000000</td>\n",
       "      <td>5.000000</td>\n",
       "      <td>1321.000000</td>\n",
       "      <td>2015.000000</td>\n",
       "      <td>10.000000</td>\n",
       "      <td>2337.000000</td>\n",
       "      <td>585840.000000</td>\n",
       "    </tr>\n",
       "  </tbody>\n",
       "</table>\n",
       "</div>"
      ],
      "text/plain": [
       "       N_FacilitiesNearBy(ETC)  N_FacilitiesNearBy(PublicOffice)  \\\n",
       "count              4123.000000                       4123.000000   \n",
       "mean                  1.930876                          4.135338   \n",
       "std                   2.198832                          1.802640   \n",
       "min                   0.000000                          0.000000   \n",
       "25%                   0.000000                          3.000000   \n",
       "50%                   1.000000                          5.000000   \n",
       "75%                   5.000000                          5.000000   \n",
       "max                   5.000000                          7.000000   \n",
       "\n",
       "       N_SchoolNearBy(University)  N_Parkinglot(Basement)    YearBuilt  \\\n",
       "count                 4123.000000             4123.000000  4123.000000   \n",
       "mean                     2.746301              568.979141  2002.999757   \n",
       "std                      1.496610              410.372742     8.905768   \n",
       "min                      0.000000                0.000000  1978.000000   \n",
       "25%                      2.000000              184.000000  1993.000000   \n",
       "50%                      2.000000              536.000000  2006.000000   \n",
       "75%                      4.000000              798.000000  2008.000000   \n",
       "max                      5.000000             1321.000000  2015.000000   \n",
       "\n",
       "       N_FacilitiesInApt    Size(sqf)      SalePrice  \n",
       "count        4123.000000  4123.000000    4123.000000  \n",
       "mean            5.817851   954.630851  221767.926995  \n",
       "std             2.340507   383.805648  106739.839945  \n",
       "min             1.000000   135.000000   32743.000000  \n",
       "25%             4.000000   644.000000  144752.000000  \n",
       "50%             5.000000   910.000000  209734.000000  \n",
       "75%             7.000000  1149.000000  291150.000000  \n",
       "max            10.000000  2337.000000  585840.000000  "
      ]
     },
     "execution_count": 4,
     "metadata": {},
     "output_type": "execute_result"
    }
   ],
   "source": [
    "# Cek info fitur numerikal\n",
    "df.describe()"
   ]
  },
  {
   "cell_type": "code",
   "execution_count": 5,
   "metadata": {},
   "outputs": [
    {
     "data": {
      "text/html": [
       "<div>\n",
       "<style scoped>\n",
       "    .dataframe tbody tr th:only-of-type {\n",
       "        vertical-align: middle;\n",
       "    }\n",
       "\n",
       "    .dataframe tbody tr th {\n",
       "        vertical-align: top;\n",
       "    }\n",
       "\n",
       "    .dataframe thead th {\n",
       "        text-align: right;\n",
       "    }\n",
       "</style>\n",
       "<table border=\"1\" class=\"dataframe\">\n",
       "  <thead>\n",
       "    <tr style=\"text-align: right;\">\n",
       "      <th></th>\n",
       "      <th>HallwayType</th>\n",
       "      <th>TimeToSubway</th>\n",
       "      <th>SubwayStation</th>\n",
       "      <th>N_FacilitiesNearBy(ETC)</th>\n",
       "      <th>N_FacilitiesNearBy(PublicOffice)</th>\n",
       "      <th>N_SchoolNearBy(University)</th>\n",
       "      <th>N_Parkinglot(Basement)</th>\n",
       "      <th>YearBuilt</th>\n",
       "      <th>N_FacilitiesInApt</th>\n",
       "      <th>Size(sqf)</th>\n",
       "      <th>SalePrice</th>\n",
       "    </tr>\n",
       "  </thead>\n",
       "  <tbody>\n",
       "    <tr>\n",
       "      <th>2128</th>\n",
       "      <td>terraced</td>\n",
       "      <td>0-5min</td>\n",
       "      <td>Kyungbuk_uni_hospital</td>\n",
       "      <td>0.0</td>\n",
       "      <td>3.0</td>\n",
       "      <td>2.0</td>\n",
       "      <td>1270.0</td>\n",
       "      <td>2007</td>\n",
       "      <td>10</td>\n",
       "      <td>1928</td>\n",
       "      <td>585840</td>\n",
       "    </tr>\n",
       "  </tbody>\n",
       "</table>\n",
       "</div>"
      ],
      "text/plain": [
       "     HallwayType TimeToSubway          SubwayStation  N_FacilitiesNearBy(ETC)  \\\n",
       "2128    terraced       0-5min  Kyungbuk_uni_hospital                      0.0   \n",
       "\n",
       "      N_FacilitiesNearBy(PublicOffice)  N_SchoolNearBy(University)  \\\n",
       "2128                               3.0                         2.0   \n",
       "\n",
       "      N_Parkinglot(Basement)  YearBuilt  N_FacilitiesInApt  Size(sqf)  \\\n",
       "2128                  1270.0       2007                 10       1928   \n",
       "\n",
       "      SalePrice  \n",
       "2128     585840  "
      ]
     },
     "execution_count": 5,
     "metadata": {},
     "output_type": "execute_result"
    }
   ],
   "source": [
    "# Apartment paling mahal dalam dataset\n",
    "df[df['SalePrice']==585840]"
   ]
  },
  {
   "cell_type": "code",
   "execution_count": 6,
   "metadata": {},
   "outputs": [
    {
     "data": {
      "text/html": [
       "<div>\n",
       "<style scoped>\n",
       "    .dataframe tbody tr th:only-of-type {\n",
       "        vertical-align: middle;\n",
       "    }\n",
       "\n",
       "    .dataframe tbody tr th {\n",
       "        vertical-align: top;\n",
       "    }\n",
       "\n",
       "    .dataframe thead th {\n",
       "        text-align: right;\n",
       "    }\n",
       "</style>\n",
       "<table border=\"1\" class=\"dataframe\">\n",
       "  <thead>\n",
       "    <tr style=\"text-align: right;\">\n",
       "      <th></th>\n",
       "      <th>HallwayType</th>\n",
       "      <th>TimeToSubway</th>\n",
       "      <th>SubwayStation</th>\n",
       "      <th>N_FacilitiesNearBy(ETC)</th>\n",
       "      <th>N_FacilitiesNearBy(PublicOffice)</th>\n",
       "      <th>N_SchoolNearBy(University)</th>\n",
       "      <th>N_Parkinglot(Basement)</th>\n",
       "      <th>YearBuilt</th>\n",
       "      <th>N_FacilitiesInApt</th>\n",
       "      <th>Size(sqf)</th>\n",
       "      <th>SalePrice</th>\n",
       "    </tr>\n",
       "  </thead>\n",
       "  <tbody>\n",
       "    <tr>\n",
       "      <th>1908</th>\n",
       "      <td>corridor</td>\n",
       "      <td>10min~15min</td>\n",
       "      <td>Myung-duk</td>\n",
       "      <td>5.0</td>\n",
       "      <td>7.0</td>\n",
       "      <td>5.0</td>\n",
       "      <td>0.0</td>\n",
       "      <td>1992</td>\n",
       "      <td>3</td>\n",
       "      <td>355</td>\n",
       "      <td>32743</td>\n",
       "    </tr>\n",
       "  </tbody>\n",
       "</table>\n",
       "</div>"
      ],
      "text/plain": [
       "     HallwayType TimeToSubway SubwayStation  N_FacilitiesNearBy(ETC)  \\\n",
       "1908    corridor  10min~15min     Myung-duk                      5.0   \n",
       "\n",
       "      N_FacilitiesNearBy(PublicOffice)  N_SchoolNearBy(University)  \\\n",
       "1908                               7.0                         5.0   \n",
       "\n",
       "      N_Parkinglot(Basement)  YearBuilt  N_FacilitiesInApt  Size(sqf)  \\\n",
       "1908                     0.0       1992                  3        355   \n",
       "\n",
       "      SalePrice  \n",
       "1908      32743  "
      ]
     },
     "execution_count": 6,
     "metadata": {},
     "output_type": "execute_result"
    }
   ],
   "source": [
    "# Apartment paling murah dalam dataset\n",
    "df[df['SalePrice']==32743]"
   ]
  },
  {
   "cell_type": "markdown",
   "metadata": {},
   "source": [
    "***\n",
    "## Exploratory Data Analysis (EDA)"
   ]
  },
  {
   "cell_type": "code",
   "execution_count": 7,
   "metadata": {},
   "outputs": [
    {
     "data": {
      "text/plain": [
       "Index(['N_FacilitiesNearBy(ETC)', 'N_FacilitiesNearBy(PublicOffice)',\n",
       "       'N_SchoolNearBy(University)', 'N_Parkinglot(Basement)', 'YearBuilt',\n",
       "       'N_FacilitiesInApt', 'Size(sqf)', 'SalePrice'],\n",
       "      dtype='object')"
      ]
     },
     "execution_count": 7,
     "metadata": {},
     "output_type": "execute_result"
    }
   ],
   "source": [
    "# Fitur-fitur numerikal\n",
    "num_feature = df.select_dtypes(exclude='object').columns\n",
    "num_feature"
   ]
  },
  {
   "cell_type": "code",
   "execution_count": 8,
   "metadata": {},
   "outputs": [
    {
     "data": {
      "text/plain": [
       "Index(['HallwayType', 'TimeToSubway', 'SubwayStation'], dtype='object')"
      ]
     },
     "execution_count": 8,
     "metadata": {},
     "output_type": "execute_result"
    }
   ],
   "source": [
    "# Fitur-fitur kategorikal\n",
    "cat_feature = df.select_dtypes(include='object').columns\n",
    "cat_feature"
   ]
  },
  {
   "cell_type": "code",
   "execution_count": 9,
   "metadata": {},
   "outputs": [
    {
     "name": "stdout",
     "output_type": "stream",
     "text": [
      "HallwayType \n",
      " ['terraced' 'mixed' 'corridor']\n",
      "TimeToSubway \n",
      " ['0-5min' '10min~15min' '15min~20min' '5min~10min' 'no_bus_stop_nearby']\n",
      "SubwayStation \n",
      " ['Kyungbuk_uni_hospital' 'Chil-sung-market' 'Bangoge' 'Sin-nam'\n",
      " 'Banwoldang' 'no_subway_nearby' 'Myung-duk' 'Daegu']\n"
     ]
    }
   ],
   "source": [
    "for col in cat_feature:\n",
    "    print(col, '\\n', df[col].unique())"
   ]
  },
  {
   "cell_type": "markdown",
   "metadata": {},
   "source": [
    "**Distribution of Hallway Type**"
   ]
  },
  {
   "cell_type": "code",
   "execution_count": 10,
   "metadata": {},
   "outputs": [
    {
     "data": {
      "text/html": [
       "<div>\n",
       "<style scoped>\n",
       "    .dataframe tbody tr th:only-of-type {\n",
       "        vertical-align: middle;\n",
       "    }\n",
       "\n",
       "    .dataframe tbody tr th {\n",
       "        vertical-align: top;\n",
       "    }\n",
       "\n",
       "    .dataframe thead th {\n",
       "        text-align: right;\n",
       "    }\n",
       "</style>\n",
       "<table border=\"1\" class=\"dataframe\">\n",
       "  <thead>\n",
       "    <tr style=\"text-align: right;\">\n",
       "      <th>HallwayType</th>\n",
       "      <th>corridor</th>\n",
       "      <th>mixed</th>\n",
       "      <th>terraced</th>\n",
       "    </tr>\n",
       "  </thead>\n",
       "  <tbody>\n",
       "    <tr>\n",
       "      <th>HallwayType</th>\n",
       "      <td>464</td>\n",
       "      <td>1131</td>\n",
       "      <td>2528</td>\n",
       "    </tr>\n",
       "  </tbody>\n",
       "</table>\n",
       "</div>"
      ],
      "text/plain": [
       "HallwayType  corridor  mixed  terraced\n",
       "HallwayType       464   1131      2528"
      ]
     },
     "metadata": {},
     "output_type": "display_data"
    },
    {
     "data": {
      "image/png": "[encoded data removed]",
      "text/plain": [
       "<Figure size 720x432 with 1 Axes>"
      ]
     },
     "metadata": {
      "needs_background": "light"
     },
     "output_type": "display_data"
    }
   ],
   "source": [
    "# Cek median sale price untuk tiap Hallway type\n",
    "from IPython.display import display\n",
    "df_median_saleprice = df.groupby('HallwayType').agg({'HallwayType':'count'})\n",
    "display(df_median_saleprice.T)\n",
    "\n",
    "plt.figure(figsize=(10,6))\n",
    "sns.histplot(df['HallwayType'], palette='crest')\n",
    "plt.title('Hallway Type of Apartment', size=16)\n",
    "plt.show()"
   ]
  },
  {
   "cell_type": "code",
   "execution_count": 11,
   "metadata": {},
   "outputs": [
    {
     "data": {
      "image/png": "[encoded data removed]",
      "text/plain": [
       "<Figure size 864x504 with 1 Axes>"
      ]
     },
     "metadata": {
      "needs_background": "light"
     },
     "output_type": "display_data"
    }
   ],
   "source": [
    "# Grouping apartment berdasarkan tipe hallway dan subway station terdekat\n",
    "pivot_apartment = df.pivot_table(index='SubwayStation', columns='HallwayType', values='SalePrice', aggfunc='median').replace(np.nan,0)\n",
    "pivot_apartment\n",
    "\n",
    "pivot_plot = pivot_apartment.plot.bar(stacked=True, figsize=(12, 7))\n",
    "pivot_plot.set_xlabel('Apartment Groups')\n",
    "pivot_plot.set_ylabel('Median Sale Price')\n",
    "pivot_plot.set_title('Median Sale Price of Apartment');"
   ]
  },
  {
   "cell_type": "code",
   "execution_count": 12,
   "metadata": {},
   "outputs": [
    {
     "data": {
      "text/html": [
       "<div>\n",
       "<style scoped>\n",
       "    .dataframe tbody tr th:only-of-type {\n",
       "        vertical-align: middle;\n",
       "    }\n",
       "\n",
       "    .dataframe tbody tr th {\n",
       "        vertical-align: top;\n",
       "    }\n",
       "\n",
       "    .dataframe thead th {\n",
       "        text-align: right;\n",
       "    }\n",
       "</style>\n",
       "<table border=\"1\" class=\"dataframe\">\n",
       "  <thead>\n",
       "    <tr style=\"text-align: right;\">\n",
       "      <th></th>\n",
       "      <th>HallwayType</th>\n",
       "      <th>TimeToSubway</th>\n",
       "      <th>SubwayStation</th>\n",
       "      <th>N_FacilitiesNearBy(ETC)</th>\n",
       "      <th>N_FacilitiesNearBy(PublicOffice)</th>\n",
       "      <th>N_SchoolNearBy(University)</th>\n",
       "      <th>N_Parkinglot(Basement)</th>\n",
       "      <th>YearBuilt</th>\n",
       "      <th>N_FacilitiesInApt</th>\n",
       "      <th>Size(sqf)</th>\n",
       "      <th>SalePrice</th>\n",
       "    </tr>\n",
       "  </thead>\n",
       "  <tbody>\n",
       "    <tr>\n",
       "      <th>2128</th>\n",
       "      <td>terraced</td>\n",
       "      <td>0-5min</td>\n",
       "      <td>Kyungbuk_uni_hospital</td>\n",
       "      <td>0.0</td>\n",
       "      <td>3.0</td>\n",
       "      <td>2.0</td>\n",
       "      <td>1270.0</td>\n",
       "      <td>2007</td>\n",
       "      <td>10</td>\n",
       "      <td>1928</td>\n",
       "      <td>585840</td>\n",
       "    </tr>\n",
       "    <tr>\n",
       "      <th>2918</th>\n",
       "      <td>terraced</td>\n",
       "      <td>0-5min</td>\n",
       "      <td>Kyungbuk_uni_hospital</td>\n",
       "      <td>0.0</td>\n",
       "      <td>3.0</td>\n",
       "      <td>2.0</td>\n",
       "      <td>1270.0</td>\n",
       "      <td>2007</td>\n",
       "      <td>10</td>\n",
       "      <td>1928</td>\n",
       "      <td>570796</td>\n",
       "    </tr>\n",
       "    <tr>\n",
       "      <th>550</th>\n",
       "      <td>terraced</td>\n",
       "      <td>0-5min</td>\n",
       "      <td>Kyungbuk_uni_hospital</td>\n",
       "      <td>0.0</td>\n",
       "      <td>3.0</td>\n",
       "      <td>2.0</td>\n",
       "      <td>1270.0</td>\n",
       "      <td>2007</td>\n",
       "      <td>10</td>\n",
       "      <td>1928</td>\n",
       "      <td>570796</td>\n",
       "    </tr>\n",
       "    <tr>\n",
       "      <th>204</th>\n",
       "      <td>terraced</td>\n",
       "      <td>0-5min</td>\n",
       "      <td>Kyungbuk_uni_hospital</td>\n",
       "      <td>0.0</td>\n",
       "      <td>3.0</td>\n",
       "      <td>2.0</td>\n",
       "      <td>1270.0</td>\n",
       "      <td>2007</td>\n",
       "      <td>10</td>\n",
       "      <td>1643</td>\n",
       "      <td>566371</td>\n",
       "    </tr>\n",
       "    <tr>\n",
       "      <th>234</th>\n",
       "      <td>terraced</td>\n",
       "      <td>0-5min</td>\n",
       "      <td>Kyungbuk_uni_hospital</td>\n",
       "      <td>0.0</td>\n",
       "      <td>3.0</td>\n",
       "      <td>2.0</td>\n",
       "      <td>1270.0</td>\n",
       "      <td>2007</td>\n",
       "      <td>10</td>\n",
       "      <td>1928</td>\n",
       "      <td>566371</td>\n",
       "    </tr>\n",
       "    <tr>\n",
       "      <th>3545</th>\n",
       "      <td>terraced</td>\n",
       "      <td>0-5min</td>\n",
       "      <td>Kyungbuk_uni_hospital</td>\n",
       "      <td>0.0</td>\n",
       "      <td>3.0</td>\n",
       "      <td>2.0</td>\n",
       "      <td>1270.0</td>\n",
       "      <td>2007</td>\n",
       "      <td>10</td>\n",
       "      <td>1928</td>\n",
       "      <td>557522</td>\n",
       "    </tr>\n",
       "    <tr>\n",
       "      <th>3949</th>\n",
       "      <td>terraced</td>\n",
       "      <td>0-5min</td>\n",
       "      <td>Kyungbuk_uni_hospital</td>\n",
       "      <td>0.0</td>\n",
       "      <td>3.0</td>\n",
       "      <td>2.0</td>\n",
       "      <td>1270.0</td>\n",
       "      <td>2007</td>\n",
       "      <td>10</td>\n",
       "      <td>1928</td>\n",
       "      <td>556637</td>\n",
       "    </tr>\n",
       "    <tr>\n",
       "      <th>549</th>\n",
       "      <td>terraced</td>\n",
       "      <td>0-5min</td>\n",
       "      <td>Kyungbuk_uni_hospital</td>\n",
       "      <td>0.0</td>\n",
       "      <td>3.0</td>\n",
       "      <td>2.0</td>\n",
       "      <td>1270.0</td>\n",
       "      <td>2007</td>\n",
       "      <td>10</td>\n",
       "      <td>1928</td>\n",
       "      <td>553097</td>\n",
       "    </tr>\n",
       "    <tr>\n",
       "      <th>2100</th>\n",
       "      <td>terraced</td>\n",
       "      <td>0-5min</td>\n",
       "      <td>Kyungbuk_uni_hospital</td>\n",
       "      <td>0.0</td>\n",
       "      <td>3.0</td>\n",
       "      <td>2.0</td>\n",
       "      <td>1270.0</td>\n",
       "      <td>2007</td>\n",
       "      <td>10</td>\n",
       "      <td>1519</td>\n",
       "      <td>530973</td>\n",
       "    </tr>\n",
       "    <tr>\n",
       "      <th>1180</th>\n",
       "      <td>terraced</td>\n",
       "      <td>0-5min</td>\n",
       "      <td>Kyungbuk_uni_hospital</td>\n",
       "      <td>0.0</td>\n",
       "      <td>3.0</td>\n",
       "      <td>2.0</td>\n",
       "      <td>1270.0</td>\n",
       "      <td>2007</td>\n",
       "      <td>10</td>\n",
       "      <td>1643</td>\n",
       "      <td>530973</td>\n",
       "    </tr>\n",
       "  </tbody>\n",
       "</table>\n",
       "</div>"
      ],
      "text/plain": [
       "     HallwayType TimeToSubway          SubwayStation  N_FacilitiesNearBy(ETC)  \\\n",
       "2128    terraced       0-5min  Kyungbuk_uni_hospital                      0.0   \n",
       "2918    terraced       0-5min  Kyungbuk_uni_hospital                      0.0   \n",
       "550     terraced       0-5min  Kyungbuk_uni_hospital                      0.0   \n",
       "204     terraced       0-5min  Kyungbuk_uni_hospital                      0.0   \n",
       "234     terraced       0-5min  Kyungbuk_uni_hospital                      0.0   \n",
       "3545    terraced       0-5min  Kyungbuk_uni_hospital                      0.0   \n",
       "3949    terraced       0-5min  Kyungbuk_uni_hospital                      0.0   \n",
       "549     terraced       0-5min  Kyungbuk_uni_hospital                      0.0   \n",
       "2100    terraced       0-5min  Kyungbuk_uni_hospital                      0.0   \n",
       "1180    terraced       0-5min  Kyungbuk_uni_hospital                      0.0   \n",
       "\n",
       "      N_FacilitiesNearBy(PublicOffice)  N_SchoolNearBy(University)  \\\n",
       "2128                               3.0                         2.0   \n",
       "2918                               3.0                         2.0   \n",
       "550                                3.0                         2.0   \n",
       "204                                3.0                         2.0   \n",
       "234                                3.0                         2.0   \n",
       "3545                               3.0                         2.0   \n",
       "3949                               3.0                         2.0   \n",
       "549                                3.0                         2.0   \n",
       "2100                               3.0                         2.0   \n",
       "1180                               3.0                         2.0   \n",
       "\n",
       "      N_Parkinglot(Basement)  YearBuilt  N_FacilitiesInApt  Size(sqf)  \\\n",
       "2128                  1270.0       2007                 10       1928   \n",
       "2918                  1270.0       2007                 10       1928   \n",
       "550                   1270.0       2007                 10       1928   \n",
       "204                   1270.0       2007                 10       1643   \n",
       "234                   1270.0       2007                 10       1928   \n",
       "3545                  1270.0       2007                 10       1928   \n",
       "3949                  1270.0       2007                 10       1928   \n",
       "549                   1270.0       2007                 10       1928   \n",
       "2100                  1270.0       2007                 10       1519   \n",
       "1180                  1270.0       2007                 10       1643   \n",
       "\n",
       "      SalePrice  \n",
       "2128     585840  \n",
       "2918     570796  \n",
       "550      570796  \n",
       "204      566371  \n",
       "234      566371  \n",
       "3545     557522  \n",
       "3949     556637  \n",
       "549      553097  \n",
       "2100     530973  \n",
       "1180     530973  "
      ]
     },
     "execution_count": 12,
     "metadata": {},
     "output_type": "execute_result"
    }
   ],
   "source": [
    "df.sort_values('SalePrice', ascending=False).head(10)"
   ]
  },
  {
   "cell_type": "markdown",
   "metadata": {},
   "source": [
    "- Dalam dataset ini, terlihat bahwa harga jual apartment (Sale Price) dengan setiap fitur yang sama memiliki Sale Price yang berbeda-beda. Namun, fitur ukuran apartment yang mempengaruhi paling besar harga jual"
   ]
  },
  {
   "cell_type": "code",
   "execution_count": 13,
   "metadata": {},
   "outputs": [
    {
     "data": {
      "text/plain": [
       "YearBuilt  N_FacilitiesInApt\n",
       "1978       3                    163716.0\n",
       "1980       9                     69468.5\n",
       "1985       3                     70796.0\n",
       "1986       3                     87610.0\n",
       "           4                    184955.0\n",
       "1992       3                     82300.0\n",
       "1993       4                    155752.0\n",
       "1997       5                     85398.0\n",
       "2003       5                    123893.0\n",
       "2005       7                    167035.0\n",
       "2006       4                    210619.0\n",
       "           5                    252212.0\n",
       "2007       4                    263273.5\n",
       "           5                    383185.0\n",
       "           10                   338495.5\n",
       "2008       8                    236283.0\n",
       "2009       5                    203646.0\n",
       "2013       7                    150778.0\n",
       "2014       1                     58407.0\n",
       "           2                    101769.0\n",
       "           9                    325221.0\n",
       "           10                   366813.5\n",
       "2015       7                    300884.0\n",
       "           10                   376769.5\n",
       "Name: SalePrice, dtype: float64"
      ]
     },
     "execution_count": 13,
     "metadata": {},
     "output_type": "execute_result"
    }
   ],
   "source": [
    "df.groupby(['YearBuilt', 'N_FacilitiesInApt']).median()['SalePrice']"
   ]
  },
  {
   "cell_type": "code",
   "execution_count": 14,
   "metadata": {},
   "outputs": [
    {
     "data": {
      "text/html": [
       "<div>\n",
       "<style scoped>\n",
       "    .dataframe tbody tr th:only-of-type {\n",
       "        vertical-align: middle;\n",
       "    }\n",
       "\n",
       "    .dataframe tbody tr th {\n",
       "        vertical-align: top;\n",
       "    }\n",
       "\n",
       "    .dataframe thead th {\n",
       "        text-align: right;\n",
       "    }\n",
       "</style>\n",
       "<table border=\"1\" class=\"dataframe\">\n",
       "  <thead>\n",
       "    <tr style=\"text-align: right;\">\n",
       "      <th>YearBuilt</th>\n",
       "      <th>1978</th>\n",
       "      <th>1980</th>\n",
       "      <th>1985</th>\n",
       "      <th>1986</th>\n",
       "      <th>1992</th>\n",
       "      <th>1993</th>\n",
       "      <th>1997</th>\n",
       "      <th>2003</th>\n",
       "      <th>2005</th>\n",
       "      <th>2006</th>\n",
       "      <th>2007</th>\n",
       "      <th>2008</th>\n",
       "      <th>2009</th>\n",
       "      <th>2013</th>\n",
       "      <th>2014</th>\n",
       "      <th>2015</th>\n",
       "    </tr>\n",
       "  </thead>\n",
       "  <tbody>\n",
       "    <tr>\n",
       "      <th>YearBuilt</th>\n",
       "      <td>49</td>\n",
       "      <td>4</td>\n",
       "      <td>51</td>\n",
       "      <td>273</td>\n",
       "      <td>326</td>\n",
       "      <td>451</td>\n",
       "      <td>67</td>\n",
       "      <td>7</td>\n",
       "      <td>502</td>\n",
       "      <td>460</td>\n",
       "      <td>853</td>\n",
       "      <td>203</td>\n",
       "      <td>171</td>\n",
       "      <td>322</td>\n",
       "      <td>292</td>\n",
       "      <td>92</td>\n",
       "    </tr>\n",
       "  </tbody>\n",
       "</table>\n",
       "</div>"
      ],
      "text/plain": [
       "YearBuilt  1978  1980  1985  1986  1992  1993  1997  2003  2005  2006  2007  \\\n",
       "YearBuilt    49     4    51   273   326   451    67     7   502   460   853   \n",
       "\n",
       "YearBuilt  2008  2009  2013  2014  2015  \n",
       "YearBuilt   203   171   322   292    92  "
      ]
     },
     "metadata": {},
     "output_type": "display_data"
    },
    {
     "data": {
      "image/png": "[encoded data removed]",
      "text/plain": [
       "<Figure size 1008x720 with 1 Axes>"
      ]
     },
     "metadata": {
      "needs_background": "light"
     },
     "output_type": "display_data"
    }
   ],
   "source": [
    "# Cek median sale price untuk tiap Hallway type\n",
    "from IPython.display import display\n",
    "df_yearbuilt = df.groupby('YearBuilt').agg({'YearBuilt':'count'})\n",
    "display(df_yearbuilt.T)\n",
    "\n",
    "plot = df_yearbuilt.plot.bar(stacked=True, figsize=(14, 10))\n",
    "plot.set_xlabel('Year Built', size=12)\n",
    "plot.set_ylabel('Total Apartment', size=12)\n",
    "plot.set_yticks(np.arange(0, 900, 50))\n",
    "plot.set_title('Total Apartment by Year Built', size=20);"
   ]
  },
  {
   "cell_type": "markdown",
   "metadata": {},
   "source": [
    "Berdasarkan tahun dibangunnya, apartemen yang paling banyak dijual merupakan apartemen yang dibangun pada tahun 2007 sebanyak 853 buah.\n",
    "Sedangkan apartemen yang dibangun tahun 1980 dan 2003 merupakan apartemen paling sedikit jumlahnya dengan total 4 dan 7 apartemen masing-masingnya."
   ]
  },
  {
   "cell_type": "markdown",
   "metadata": {},
   "source": [
    "**Data Correlation**"
   ]
  },
  {
   "cell_type": "code",
   "execution_count": 15,
   "metadata": {},
   "outputs": [
    {
     "data": {
      "image/png": "[encoded data removed]",
      "text/plain": [
       "<Figure size 1080x864 with 2 Axes>"
      ]
     },
     "metadata": {
      "needs_background": "light"
     },
     "output_type": "display_data"
    }
   ],
   "source": [
    "# Correlation matrix\n",
    "plt.figure(figsize=(15,12))\n",
    "palette = sns.diverging_palette(20, 220, n=256)\n",
    "corr = df.corr(method='pearson')\n",
    "sns.heatmap(corr, annot=True, fmt='.2f', cmap=palette, square=True, linewidths=.5)\n",
    "plt.title('Correlation Matrix', size=15, weight='bold');"
   ]
  },
  {
   "cell_type": "markdown",
   "metadata": {},
   "source": [
    "Korelasi terkuat terjadi antara ukuran apartment (size) terhadap harga jual apartment (SalePrice) = 0.7\n",
    "- Hal ini menandakan bahwa ukuran apartment paling besar mempengaruhi harga jual apartment."
   ]
  },
  {
   "cell_type": "markdown",
   "metadata": {},
   "source": [
    "**Jumlah apartment berdasarkan fitur numerikal**"
   ]
  },
  {
   "cell_type": "code",
   "execution_count": 16,
   "metadata": {},
   "outputs": [
    {
     "data": {
      "text/plain": [
       "Index(['N_FacilitiesNearBy(ETC)', 'N_FacilitiesNearBy(PublicOffice)',\n",
       "       'N_SchoolNearBy(University)', 'N_Parkinglot(Basement)', 'YearBuilt',\n",
       "       'N_FacilitiesInApt', 'Size(sqf)', 'SalePrice'],\n",
       "      dtype='object')"
      ]
     },
     "execution_count": 16,
     "metadata": {},
     "output_type": "execute_result"
    }
   ],
   "source": [
    "num_feature"
   ]
  },
  {
   "cell_type": "code",
   "execution_count": 17,
   "metadata": {},
   "outputs": [
    {
     "data": {
      "image/png": "[encoded data removed]",
      "text/plain": [
       "<Figure size 2160x3240 with 6 Axes>"
      ]
     },
     "metadata": {
      "needs_background": "light"
     },
     "output_type": "display_data"
    }
   ],
   "source": [
    "plt.figure(figsize=(30,45))\n",
    "sns.set(style='whitegrid')\n",
    "i = 1\n",
    "for col in num_feature.drop(['SalePrice','YearBuilt']):\n",
    "    plt.subplot(5,2,i)\n",
    "    sns.countplot(data = df, x  = col, palette='crest')\n",
    "    plt.xticks(rotation=90)\n",
    "    plt.title(df[col].name)\n",
    "    i+=1"
   ]
  },
  {
   "cell_type": "markdown",
   "metadata": {},
   "source": [
    "**Penyebaran Data**"
   ]
  },
  {
   "cell_type": "code",
   "execution_count": 18,
   "metadata": {},
   "outputs": [
    {
     "data": {
      "image/png": "[encoded data removed]",
      "text/plain": [
       "<Figure size 1440x720 with 8 Axes>"
      ]
     },
     "metadata": {},
     "output_type": "display_data"
    }
   ],
   "source": [
    "plt.figure(figsize=(20, 10), facecolor='white')\n",
    "sns.set(style='whitegrid')\n",
    "plotnumber = 1\n",
    "\n",
    "for numfeature in num_feature:\n",
    "    ax = plt.subplot(4,2, plotnumber)\n",
    "    sns.boxplot(x=numfeature, data=df, palette='crest')\n",
    "    plt.title(numfeature, fontsize=16)\n",
    "    plt.tight_layout()\n",
    "    plotnumber += 1"
   ]
  },
  {
   "cell_type": "markdown",
   "metadata": {},
   "source": [
    "## **Data Preprocessing**"
   ]
  },
  {
   "cell_type": "code",
   "execution_count": 19,
   "metadata": {},
   "outputs": [
    {
     "data": {
      "text/html": [
       "<div>\n",
       "<style scoped>\n",
       "    .dataframe tbody tr th:only-of-type {\n",
       "        vertical-align: middle;\n",
       "    }\n",
       "\n",
       "    .dataframe tbody tr th {\n",
       "        vertical-align: top;\n",
       "    }\n",
       "\n",
       "    .dataframe thead th {\n",
       "        text-align: right;\n",
       "    }\n",
       "</style>\n",
       "<table border=\"1\" class=\"dataframe\">\n",
       "  <thead>\n",
       "    <tr style=\"text-align: right;\">\n",
       "      <th></th>\n",
       "      <th>Column Name</th>\n",
       "      <th>Data Type</th>\n",
       "      <th>Data Count</th>\n",
       "      <th>Missing Value</th>\n",
       "      <th>Missing Value Percentage</th>\n",
       "      <th>Member of Unique</th>\n",
       "      <th>Unique Sample</th>\n",
       "    </tr>\n",
       "  </thead>\n",
       "  <tbody>\n",
       "    <tr>\n",
       "      <th>0</th>\n",
       "      <td>HallwayType</td>\n",
       "      <td>object</td>\n",
       "      <td>4123</td>\n",
       "      <td>0</td>\n",
       "      <td>0.0</td>\n",
       "      <td>3</td>\n",
       "      <td>[mixed, terraced]</td>\n",
       "    </tr>\n",
       "    <tr>\n",
       "      <th>1</th>\n",
       "      <td>TimeToSubway</td>\n",
       "      <td>object</td>\n",
       "      <td>4123</td>\n",
       "      <td>0</td>\n",
       "      <td>0.0</td>\n",
       "      <td>5</td>\n",
       "      <td>[0-5min, no_bus_stop_nearby]</td>\n",
       "    </tr>\n",
       "    <tr>\n",
       "      <th>2</th>\n",
       "      <td>SubwayStation</td>\n",
       "      <td>object</td>\n",
       "      <td>4123</td>\n",
       "      <td>0</td>\n",
       "      <td>0.0</td>\n",
       "      <td>8</td>\n",
       "      <td>[no_subway_nearby, Bangoge]</td>\n",
       "    </tr>\n",
       "    <tr>\n",
       "      <th>3</th>\n",
       "      <td>N_FacilitiesNearBy(ETC)</td>\n",
       "      <td>float64</td>\n",
       "      <td>4123</td>\n",
       "      <td>0</td>\n",
       "      <td>0.0</td>\n",
       "      <td>4</td>\n",
       "      <td>[5.0, 0.0]</td>\n",
       "    </tr>\n",
       "    <tr>\n",
       "      <th>4</th>\n",
       "      <td>N_FacilitiesNearBy(PublicOffice)</td>\n",
       "      <td>float64</td>\n",
       "      <td>4123</td>\n",
       "      <td>0</td>\n",
       "      <td>0.0</td>\n",
       "      <td>8</td>\n",
       "      <td>[2.0, 1.0]</td>\n",
       "    </tr>\n",
       "    <tr>\n",
       "      <th>5</th>\n",
       "      <td>N_SchoolNearBy(University)</td>\n",
       "      <td>float64</td>\n",
       "      <td>4123</td>\n",
       "      <td>0</td>\n",
       "      <td>0.0</td>\n",
       "      <td>6</td>\n",
       "      <td>[0.0, 1.0]</td>\n",
       "    </tr>\n",
       "    <tr>\n",
       "      <th>6</th>\n",
       "      <td>N_Parkinglot(Basement)</td>\n",
       "      <td>float64</td>\n",
       "      <td>4123</td>\n",
       "      <td>0</td>\n",
       "      <td>0.0</td>\n",
       "      <td>20</td>\n",
       "      <td>[1321.0, 475.0]</td>\n",
       "    </tr>\n",
       "    <tr>\n",
       "      <th>7</th>\n",
       "      <td>YearBuilt</td>\n",
       "      <td>int64</td>\n",
       "      <td>4123</td>\n",
       "      <td>0</td>\n",
       "      <td>0.0</td>\n",
       "      <td>16</td>\n",
       "      <td>[2013, 2015]</td>\n",
       "    </tr>\n",
       "    <tr>\n",
       "      <th>8</th>\n",
       "      <td>N_FacilitiesInApt</td>\n",
       "      <td>int64</td>\n",
       "      <td>4123</td>\n",
       "      <td>0</td>\n",
       "      <td>0.0</td>\n",
       "      <td>9</td>\n",
       "      <td>[4, 5]</td>\n",
       "    </tr>\n",
       "    <tr>\n",
       "      <th>9</th>\n",
       "      <td>Size(sqf)</td>\n",
       "      <td>int64</td>\n",
       "      <td>4123</td>\n",
       "      <td>0</td>\n",
       "      <td>0.0</td>\n",
       "      <td>89</td>\n",
       "      <td>[1035, 868]</td>\n",
       "    </tr>\n",
       "    <tr>\n",
       "      <th>10</th>\n",
       "      <td>SalePrice</td>\n",
       "      <td>int64</td>\n",
       "      <td>4123</td>\n",
       "      <td>0</td>\n",
       "      <td>0.0</td>\n",
       "      <td>838</td>\n",
       "      <td>[253097, 228318]</td>\n",
       "    </tr>\n",
       "  </tbody>\n",
       "</table>\n",
       "</div>"
      ],
      "text/plain": [
       "                         Column Name Data Type   Data Count  Missing Value  \\\n",
       "0                        HallwayType    object         4123              0   \n",
       "1                       TimeToSubway    object         4123              0   \n",
       "2                      SubwayStation    object         4123              0   \n",
       "3            N_FacilitiesNearBy(ETC)   float64         4123              0   \n",
       "4   N_FacilitiesNearBy(PublicOffice)   float64         4123              0   \n",
       "5         N_SchoolNearBy(University)   float64         4123              0   \n",
       "6             N_Parkinglot(Basement)   float64         4123              0   \n",
       "7                          YearBuilt     int64         4123              0   \n",
       "8                  N_FacilitiesInApt     int64         4123              0   \n",
       "9                          Size(sqf)     int64         4123              0   \n",
       "10                         SalePrice     int64         4123              0   \n",
       "\n",
       "    Missing Value Percentage  Member of Unique                 Unique Sample  \n",
       "0                        0.0                 3             [mixed, terraced]  \n",
       "1                        0.0                 5  [0-5min, no_bus_stop_nearby]  \n",
       "2                        0.0                 8   [no_subway_nearby, Bangoge]  \n",
       "3                        0.0                 4                    [5.0, 0.0]  \n",
       "4                        0.0                 8                    [2.0, 1.0]  \n",
       "5                        0.0                 6                    [0.0, 1.0]  \n",
       "6                        0.0                20               [1321.0, 475.0]  \n",
       "7                        0.0                16                  [2013, 2015]  \n",
       "8                        0.0                 9                        [4, 5]  \n",
       "9                        0.0                89                   [1035, 868]  \n",
       "10                       0.0               838              [253097, 228318]  "
      ]
     },
     "execution_count": 19,
     "metadata": {},
     "output_type": "execute_result"
    }
   ],
   "source": [
    "listItem = []\n",
    "for col in df.columns:\n",
    "    listItem.append([col, df[col].dtype, len(df), df[col].isna().sum(), round((df[col].isna().sum()/len(df[col]))* 100, 2),\n",
    "                    df[col].nunique(), list(df[col].drop_duplicates().sample(2).values)])\n",
    "\n",
    "dfDesc = pd.DataFrame(columns=['Column Name', 'Data Type',' Data Count', 'Missing Value', 'Missing Value Percentage', 'Member of Unique', 'Unique Sample'],\n",
    "                    data=listItem)\n",
    "dfDesc"
   ]
  },
  {
   "cell_type": "code",
   "execution_count": 20,
   "metadata": {},
   "outputs": [
    {
     "data": {
      "text/html": [
       "<div>\n",
       "<style scoped>\n",
       "    .dataframe tbody tr th:only-of-type {\n",
       "        vertical-align: middle;\n",
       "    }\n",
       "\n",
       "    .dataframe tbody tr th {\n",
       "        vertical-align: top;\n",
       "    }\n",
       "\n",
       "    .dataframe thead th {\n",
       "        text-align: right;\n",
       "    }\n",
       "</style>\n",
       "<table border=\"1\" class=\"dataframe\">\n",
       "  <thead>\n",
       "    <tr style=\"text-align: right;\">\n",
       "      <th></th>\n",
       "      <th>N_FacilitiesNearBy(ETC)</th>\n",
       "      <th>N_FacilitiesNearBy(PublicOffice)</th>\n",
       "      <th>N_SchoolNearBy(University)</th>\n",
       "      <th>N_Parkinglot(Basement)</th>\n",
       "      <th>YearBuilt</th>\n",
       "      <th>N_FacilitiesInApt</th>\n",
       "      <th>Size(sqf)</th>\n",
       "      <th>SalePrice</th>\n",
       "    </tr>\n",
       "  </thead>\n",
       "  <tbody>\n",
       "    <tr>\n",
       "      <th>count</th>\n",
       "      <td>4123.000000</td>\n",
       "      <td>4123.000000</td>\n",
       "      <td>4123.000000</td>\n",
       "      <td>4123.000000</td>\n",
       "      <td>4123.000000</td>\n",
       "      <td>4123.000000</td>\n",
       "      <td>4123.000000</td>\n",
       "      <td>4123.000000</td>\n",
       "    </tr>\n",
       "    <tr>\n",
       "      <th>mean</th>\n",
       "      <td>1.930876</td>\n",
       "      <td>4.135338</td>\n",
       "      <td>2.746301</td>\n",
       "      <td>568.979141</td>\n",
       "      <td>2002.999757</td>\n",
       "      <td>5.817851</td>\n",
       "      <td>954.630851</td>\n",
       "      <td>221767.926995</td>\n",
       "    </tr>\n",
       "    <tr>\n",
       "      <th>std</th>\n",
       "      <td>2.198832</td>\n",
       "      <td>1.802640</td>\n",
       "      <td>1.496610</td>\n",
       "      <td>410.372742</td>\n",
       "      <td>8.905768</td>\n",
       "      <td>2.340507</td>\n",
       "      <td>383.805648</td>\n",
       "      <td>106739.839945</td>\n",
       "    </tr>\n",
       "    <tr>\n",
       "      <th>min</th>\n",
       "      <td>0.000000</td>\n",
       "      <td>0.000000</td>\n",
       "      <td>0.000000</td>\n",
       "      <td>0.000000</td>\n",
       "      <td>1978.000000</td>\n",
       "      <td>1.000000</td>\n",
       "      <td>135.000000</td>\n",
       "      <td>32743.000000</td>\n",
       "    </tr>\n",
       "    <tr>\n",
       "      <th>25%</th>\n",
       "      <td>0.000000</td>\n",
       "      <td>3.000000</td>\n",
       "      <td>2.000000</td>\n",
       "      <td>184.000000</td>\n",
       "      <td>1993.000000</td>\n",
       "      <td>4.000000</td>\n",
       "      <td>644.000000</td>\n",
       "      <td>144752.000000</td>\n",
       "    </tr>\n",
       "    <tr>\n",
       "      <th>50%</th>\n",
       "      <td>1.000000</td>\n",
       "      <td>5.000000</td>\n",
       "      <td>2.000000</td>\n",
       "      <td>536.000000</td>\n",
       "      <td>2006.000000</td>\n",
       "      <td>5.000000</td>\n",
       "      <td>910.000000</td>\n",
       "      <td>209734.000000</td>\n",
       "    </tr>\n",
       "    <tr>\n",
       "      <th>75%</th>\n",
       "      <td>5.000000</td>\n",
       "      <td>5.000000</td>\n",
       "      <td>4.000000</td>\n",
       "      <td>798.000000</td>\n",
       "      <td>2008.000000</td>\n",
       "      <td>7.000000</td>\n",
       "      <td>1149.000000</td>\n",
       "      <td>291150.000000</td>\n",
       "    </tr>\n",
       "    <tr>\n",
       "      <th>max</th>\n",
       "      <td>5.000000</td>\n",
       "      <td>7.000000</td>\n",
       "      <td>5.000000</td>\n",
       "      <td>1321.000000</td>\n",
       "      <td>2015.000000</td>\n",
       "      <td>10.000000</td>\n",
       "      <td>2337.000000</td>\n",
       "      <td>585840.000000</td>\n",
       "    </tr>\n",
       "  </tbody>\n",
       "</table>\n",
       "</div>"
      ],
      "text/plain": [
       "       N_FacilitiesNearBy(ETC)  N_FacilitiesNearBy(PublicOffice)  \\\n",
       "count              4123.000000                       4123.000000   \n",
       "mean                  1.930876                          4.135338   \n",
       "std                   2.198832                          1.802640   \n",
       "min                   0.000000                          0.000000   \n",
       "25%                   0.000000                          3.000000   \n",
       "50%                   1.000000                          5.000000   \n",
       "75%                   5.000000                          5.000000   \n",
       "max                   5.000000                          7.000000   \n",
       "\n",
       "       N_SchoolNearBy(University)  N_Parkinglot(Basement)    YearBuilt  \\\n",
       "count                 4123.000000             4123.000000  4123.000000   \n",
       "mean                     2.746301              568.979141  2002.999757   \n",
       "std                      1.496610              410.372742     8.905768   \n",
       "min                      0.000000                0.000000  1978.000000   \n",
       "25%                      2.000000              184.000000  1993.000000   \n",
       "50%                      2.000000              536.000000  2006.000000   \n",
       "75%                      4.000000              798.000000  2008.000000   \n",
       "max                      5.000000             1321.000000  2015.000000   \n",
       "\n",
       "       N_FacilitiesInApt    Size(sqf)      SalePrice  \n",
       "count        4123.000000  4123.000000    4123.000000  \n",
       "mean            5.817851   954.630851  221767.926995  \n",
       "std             2.340507   383.805648  106739.839945  \n",
       "min             1.000000   135.000000   32743.000000  \n",
       "25%             4.000000   644.000000  144752.000000  \n",
       "50%             5.000000   910.000000  209734.000000  \n",
       "75%             7.000000  1149.000000  291150.000000  \n",
       "max            10.000000  2337.000000  585840.000000  "
      ]
     },
     "execution_count": 20,
     "metadata": {},
     "output_type": "execute_result"
    }
   ],
   "source": [
    "df.describe()"
   ]
  },
  {
   "cell_type": "code",
   "execution_count": 21,
   "metadata": {},
   "outputs": [],
   "source": [
    "# Fungsi pengecekan outliers\n",
    "def find_outliers(data):\n",
    "    q1 = data.quantile(0.25)\n",
    "    q3 = data.quantile(0.75)\n",
    "    iqr = q3 - q1\n",
    "    batas = iqr*1.5\n",
    "    print(f'IQR: {iqr}')\n",
    "\n",
    "    batas_bawah = q1 - batas\n",
    "    batas_atas = q3 + batas\n",
    "    print(f'batas_bawah: {batas_bawah}')\n",
    "    print(f'batas_atas: {batas_atas}')"
   ]
  },
  {
   "cell_type": "markdown",
   "metadata": {},
   "source": [
    "**Size Apartment**"
   ]
  },
  {
   "cell_type": "code",
   "execution_count": 22,
   "metadata": {},
   "outputs": [
    {
     "name": "stdout",
     "output_type": "stream",
     "text": [
      "IQR: 505.0\n",
      "batas_bawah: -113.5\n",
      "batas_atas: 1906.5\n"
     ]
    }
   ],
   "source": [
    "# Outliers Size(sqf)\n",
    "find_outliers(df['Size(sqf)'])"
   ]
  },
  {
   "cell_type": "code",
   "execution_count": 23,
   "metadata": {},
   "outputs": [
    {
     "data": {
      "text/plain": [
       "98"
      ]
     },
     "execution_count": 23,
     "metadata": {},
     "output_type": "execute_result"
    }
   ],
   "source": [
    "# Cek outliers\n",
    "df[df['Size(sqf)'] > 1906.5].count()['Size(sqf)']"
   ]
  },
  {
   "cell_type": "markdown",
   "metadata": {},
   "source": [
    "**Sale Price**"
   ]
  },
  {
   "cell_type": "code",
   "execution_count": 24,
   "metadata": {},
   "outputs": [
    {
     "name": "stdout",
     "output_type": "stream",
     "text": [
      "IQR: 146398.0\n",
      "batas_bawah: -74845.0\n",
      "batas_atas: 510747.0\n"
     ]
    }
   ],
   "source": [
    "# Outliers Sale Price\n",
    "find_outliers(df['SalePrice'])"
   ]
  },
  {
   "cell_type": "code",
   "execution_count": 25,
   "metadata": {},
   "outputs": [
    {
     "data": {
      "text/plain": [
       "27"
      ]
     },
     "execution_count": 25,
     "metadata": {},
     "output_type": "execute_result"
    }
   ],
   "source": [
    "# Cek outliers\n",
    "df[df['SalePrice'] > 510747.0].count()['SalePrice']"
   ]
  },
  {
   "cell_type": "markdown",
   "metadata": {},
   "source": [
    "Melakukan duplikasi dataset yang akan digunakan untuk membangun model regresi"
   ]
  },
  {
   "cell_type": "code",
   "execution_count": 26,
   "metadata": {},
   "outputs": [],
   "source": [
    "# copy dataset\n",
    "df_aprt = df.copy()"
   ]
  },
  {
   "cell_type": "markdown",
   "metadata": {},
   "source": [
    "**Limitasi Data**"
   ]
  },
  {
   "cell_type": "code",
   "execution_count": 27,
   "metadata": {},
   "outputs": [],
   "source": [
    "# Drop data outlier pada 'SalePrice'\n",
    "df_aprt = df_aprt[df_aprt['SalePrice'] <= 510747.0]"
   ]
  },
  {
   "cell_type": "code",
   "execution_count": 28,
   "metadata": {},
   "outputs": [],
   "source": [
    "# Drop data outlier pada 'Size(sqf)'\n",
    "df_aprt = df_aprt[df_aprt['Size(sqf)'] <= 1906.5]"
   ]
  },
  {
   "cell_type": "code",
   "execution_count": 29,
   "metadata": {},
   "outputs": [
    {
     "data": {
      "text/html": [
       "<div>\n",
       "<style scoped>\n",
       "    .dataframe tbody tr th:only-of-type {\n",
       "        vertical-align: middle;\n",
       "    }\n",
       "\n",
       "    .dataframe tbody tr th {\n",
       "        vertical-align: top;\n",
       "    }\n",
       "\n",
       "    .dataframe thead th {\n",
       "        text-align: right;\n",
       "    }\n",
       "</style>\n",
       "<table border=\"1\" class=\"dataframe\">\n",
       "  <thead>\n",
       "    <tr style=\"text-align: right;\">\n",
       "      <th></th>\n",
       "      <th>HallwayType</th>\n",
       "      <th>TimeToSubway</th>\n",
       "      <th>SubwayStation</th>\n",
       "      <th>N_FacilitiesNearBy(ETC)</th>\n",
       "      <th>N_FacilitiesNearBy(PublicOffice)</th>\n",
       "      <th>N_SchoolNearBy(University)</th>\n",
       "      <th>N_Parkinglot(Basement)</th>\n",
       "      <th>YearBuilt</th>\n",
       "      <th>N_FacilitiesInApt</th>\n",
       "      <th>Size(sqf)</th>\n",
       "      <th>SalePrice</th>\n",
       "    </tr>\n",
       "  </thead>\n",
       "  <tbody>\n",
       "    <tr>\n",
       "      <th>0</th>\n",
       "      <td>terraced</td>\n",
       "      <td>0-5min</td>\n",
       "      <td>Kyungbuk_uni_hospital</td>\n",
       "      <td>0.0</td>\n",
       "      <td>3.0</td>\n",
       "      <td>2.0</td>\n",
       "      <td>1270.0</td>\n",
       "      <td>2007</td>\n",
       "      <td>10</td>\n",
       "      <td>1387</td>\n",
       "      <td>346017</td>\n",
       "    </tr>\n",
       "    <tr>\n",
       "      <th>2</th>\n",
       "      <td>mixed</td>\n",
       "      <td>15min~20min</td>\n",
       "      <td>Chil-sung-market</td>\n",
       "      <td>1.0</td>\n",
       "      <td>7.0</td>\n",
       "      <td>3.0</td>\n",
       "      <td>56.0</td>\n",
       "      <td>1997</td>\n",
       "      <td>5</td>\n",
       "      <td>558</td>\n",
       "      <td>61946</td>\n",
       "    </tr>\n",
       "    <tr>\n",
       "      <th>3</th>\n",
       "      <td>mixed</td>\n",
       "      <td>5min~10min</td>\n",
       "      <td>Bangoge</td>\n",
       "      <td>5.0</td>\n",
       "      <td>5.0</td>\n",
       "      <td>4.0</td>\n",
       "      <td>798.0</td>\n",
       "      <td>2005</td>\n",
       "      <td>7</td>\n",
       "      <td>914</td>\n",
       "      <td>165486</td>\n",
       "    </tr>\n",
       "    <tr>\n",
       "      <th>4</th>\n",
       "      <td>terraced</td>\n",
       "      <td>0-5min</td>\n",
       "      <td>Sin-nam</td>\n",
       "      <td>0.0</td>\n",
       "      <td>1.0</td>\n",
       "      <td>2.0</td>\n",
       "      <td>536.0</td>\n",
       "      <td>2006</td>\n",
       "      <td>5</td>\n",
       "      <td>1743</td>\n",
       "      <td>311504</td>\n",
       "    </tr>\n",
       "    <tr>\n",
       "      <th>5</th>\n",
       "      <td>mixed</td>\n",
       "      <td>15min~20min</td>\n",
       "      <td>Chil-sung-market</td>\n",
       "      <td>1.0</td>\n",
       "      <td>7.0</td>\n",
       "      <td>3.0</td>\n",
       "      <td>56.0</td>\n",
       "      <td>1997</td>\n",
       "      <td>5</td>\n",
       "      <td>558</td>\n",
       "      <td>118584</td>\n",
       "    </tr>\n",
       "    <tr>\n",
       "      <th>...</th>\n",
       "      <td>...</td>\n",
       "      <td>...</td>\n",
       "      <td>...</td>\n",
       "      <td>...</td>\n",
       "      <td>...</td>\n",
       "      <td>...</td>\n",
       "      <td>...</td>\n",
       "      <td>...</td>\n",
       "      <td>...</td>\n",
       "      <td>...</td>\n",
       "      <td>...</td>\n",
       "    </tr>\n",
       "    <tr>\n",
       "      <th>4117</th>\n",
       "      <td>mixed</td>\n",
       "      <td>15min~20min</td>\n",
       "      <td>Myung-duk</td>\n",
       "      <td>5.0</td>\n",
       "      <td>6.0</td>\n",
       "      <td>5.0</td>\n",
       "      <td>536.0</td>\n",
       "      <td>1993</td>\n",
       "      <td>4</td>\n",
       "      <td>1761</td>\n",
       "      <td>345132</td>\n",
       "    </tr>\n",
       "    <tr>\n",
       "      <th>4118</th>\n",
       "      <td>terraced</td>\n",
       "      <td>0-5min</td>\n",
       "      <td>Sin-nam</td>\n",
       "      <td>0.0</td>\n",
       "      <td>3.0</td>\n",
       "      <td>2.0</td>\n",
       "      <td>475.0</td>\n",
       "      <td>2008</td>\n",
       "      <td>8</td>\n",
       "      <td>914</td>\n",
       "      <td>323008</td>\n",
       "    </tr>\n",
       "    <tr>\n",
       "      <th>4119</th>\n",
       "      <td>mixed</td>\n",
       "      <td>15min~20min</td>\n",
       "      <td>Myung-duk</td>\n",
       "      <td>5.0</td>\n",
       "      <td>6.0</td>\n",
       "      <td>5.0</td>\n",
       "      <td>536.0</td>\n",
       "      <td>1993</td>\n",
       "      <td>4</td>\n",
       "      <td>1451</td>\n",
       "      <td>242477</td>\n",
       "    </tr>\n",
       "    <tr>\n",
       "      <th>4120</th>\n",
       "      <td>mixed</td>\n",
       "      <td>15min~20min</td>\n",
       "      <td>Myung-duk</td>\n",
       "      <td>5.0</td>\n",
       "      <td>6.0</td>\n",
       "      <td>5.0</td>\n",
       "      <td>536.0</td>\n",
       "      <td>1993</td>\n",
       "      <td>4</td>\n",
       "      <td>1761</td>\n",
       "      <td>168141</td>\n",
       "    </tr>\n",
       "    <tr>\n",
       "      <th>4122</th>\n",
       "      <td>terraced</td>\n",
       "      <td>0-5min</td>\n",
       "      <td>Kyungbuk_uni_hospital</td>\n",
       "      <td>0.0</td>\n",
       "      <td>3.0</td>\n",
       "      <td>2.0</td>\n",
       "      <td>1270.0</td>\n",
       "      <td>2007</td>\n",
       "      <td>10</td>\n",
       "      <td>868</td>\n",
       "      <td>250442</td>\n",
       "    </tr>\n",
       "  </tbody>\n",
       "</table>\n",
       "<p>3646 rows × 11 columns</p>\n",
       "</div>"
      ],
      "text/plain": [
       "     HallwayType TimeToSubway          SubwayStation  N_FacilitiesNearBy(ETC)  \\\n",
       "0       terraced       0-5min  Kyungbuk_uni_hospital                      0.0   \n",
       "2          mixed  15min~20min       Chil-sung-market                      1.0   \n",
       "3          mixed   5min~10min                Bangoge                      5.0   \n",
       "4       terraced       0-5min                Sin-nam                      0.0   \n",
       "5          mixed  15min~20min       Chil-sung-market                      1.0   \n",
       "...          ...          ...                    ...                      ...   \n",
       "4117       mixed  15min~20min              Myung-duk                      5.0   \n",
       "4118    terraced       0-5min                Sin-nam                      0.0   \n",
       "4119       mixed  15min~20min              Myung-duk                      5.0   \n",
       "4120       mixed  15min~20min              Myung-duk                      5.0   \n",
       "4122    terraced       0-5min  Kyungbuk_uni_hospital                      0.0   \n",
       "\n",
       "      N_FacilitiesNearBy(PublicOffice)  N_SchoolNearBy(University)  \\\n",
       "0                                  3.0                         2.0   \n",
       "2                                  7.0                         3.0   \n",
       "3                                  5.0                         4.0   \n",
       "4                                  1.0                         2.0   \n",
       "5                                  7.0                         3.0   \n",
       "...                                ...                         ...   \n",
       "4117                               6.0                         5.0   \n",
       "4118                               3.0                         2.0   \n",
       "4119                               6.0                         5.0   \n",
       "4120                               6.0                         5.0   \n",
       "4122                               3.0                         2.0   \n",
       "\n",
       "      N_Parkinglot(Basement)  YearBuilt  N_FacilitiesInApt  Size(sqf)  \\\n",
       "0                     1270.0       2007                 10       1387   \n",
       "2                       56.0       1997                  5        558   \n",
       "3                      798.0       2005                  7        914   \n",
       "4                      536.0       2006                  5       1743   \n",
       "5                       56.0       1997                  5        558   \n",
       "...                      ...        ...                ...        ...   \n",
       "4117                   536.0       1993                  4       1761   \n",
       "4118                   475.0       2008                  8        914   \n",
       "4119                   536.0       1993                  4       1451   \n",
       "4120                   536.0       1993                  4       1761   \n",
       "4122                  1270.0       2007                 10        868   \n",
       "\n",
       "      SalePrice  \n",
       "0        346017  \n",
       "2         61946  \n",
       "3        165486  \n",
       "4        311504  \n",
       "5        118584  \n",
       "...         ...  \n",
       "4117     345132  \n",
       "4118     323008  \n",
       "4119     242477  \n",
       "4120     168141  \n",
       "4122     250442  \n",
       "\n",
       "[3646 rows x 11 columns]"
      ]
     },
     "execution_count": 29,
     "metadata": {},
     "output_type": "execute_result"
    }
   ],
   "source": [
    "# Drop data dengan umur bangunan lebih dari 30 tahun\n",
    "df_aprt = df_aprt[df_aprt['YearBuilt'] > 1986]\n",
    "df_aprt"
   ]
  },
  {
   "cell_type": "markdown",
   "metadata": {},
   "source": [
    "Dalam data processing, kita dapat melakukan pembatasan data yang akan digunakan. Dalam kasus ini, kita melakukan pembatasan terhadap:\n",
    "- Melakukan drop pada Harga jual apartment yang outlier dari data, dari dataset ini outlier batas atas 'SalePrice' yaitu 510747 dollar. Jadi data yang digunakan hanya apartment yang memiliki harga jual kurang dari sama dengan 510747 dollar.\n",
    "- Pembatasan juga dilakukan pada umur dari bangunan apartment. Kita membatasi hanya apartment yang memiliki umur bangunan 30 tahun kebawah saja yang digunakan data nya. Oleh karena itu, apartment yang sudah memiliki umur diatas 30 tahun akan di drop atau tidak digunakan. Karena, bangunan yang tinggi dan sudah memiliki umur yang lebih dari 30 tahun sebaiknya dilakukan penguatan pada konstruksi bangunanannya agar dapat dikatakan layak huni."
   ]
  },
  {
   "cell_type": "code",
   "execution_count": 30,
   "metadata": {},
   "outputs": [
    {
     "data": {
      "text/html": [
       "<div>\n",
       "<style scoped>\n",
       "    .dataframe tbody tr th:only-of-type {\n",
       "        vertical-align: middle;\n",
       "    }\n",
       "\n",
       "    .dataframe tbody tr th {\n",
       "        vertical-align: top;\n",
       "    }\n",
       "\n",
       "    .dataframe thead th {\n",
       "        text-align: right;\n",
       "    }\n",
       "</style>\n",
       "<table border=\"1\" class=\"dataframe\">\n",
       "  <thead>\n",
       "    <tr style=\"text-align: right;\">\n",
       "      <th></th>\n",
       "      <th>YearBuilt</th>\n",
       "      <th>SalePrice</th>\n",
       "    </tr>\n",
       "  </thead>\n",
       "  <tbody>\n",
       "    <tr>\n",
       "      <th>count</th>\n",
       "      <td>3646.000000</td>\n",
       "      <td>3646.000000</td>\n",
       "    </tr>\n",
       "    <tr>\n",
       "      <th>mean</th>\n",
       "      <td>2004.892759</td>\n",
       "      <td>222907.233132</td>\n",
       "    </tr>\n",
       "    <tr>\n",
       "      <th>std</th>\n",
       "      <td>7.061382</td>\n",
       "      <td>104291.277543</td>\n",
       "    </tr>\n",
       "    <tr>\n",
       "      <th>min</th>\n",
       "      <td>1992.000000</td>\n",
       "      <td>32743.000000</td>\n",
       "    </tr>\n",
       "    <tr>\n",
       "      <th>25%</th>\n",
       "      <td>2005.000000</td>\n",
       "      <td>146017.000000</td>\n",
       "    </tr>\n",
       "    <tr>\n",
       "      <th>50%</th>\n",
       "      <td>2007.000000</td>\n",
       "      <td>212389.000000</td>\n",
       "    </tr>\n",
       "    <tr>\n",
       "      <th>75%</th>\n",
       "      <td>2008.000000</td>\n",
       "      <td>292035.000000</td>\n",
       "    </tr>\n",
       "    <tr>\n",
       "      <th>max</th>\n",
       "      <td>2015.000000</td>\n",
       "      <td>508849.000000</td>\n",
       "    </tr>\n",
       "  </tbody>\n",
       "</table>\n",
       "</div>"
      ],
      "text/plain": [
       "         YearBuilt      SalePrice\n",
       "count  3646.000000    3646.000000\n",
       "mean   2004.892759  222907.233132\n",
       "std       7.061382  104291.277543\n",
       "min    1992.000000   32743.000000\n",
       "25%    2005.000000  146017.000000\n",
       "50%    2007.000000  212389.000000\n",
       "75%    2008.000000  292035.000000\n",
       "max    2015.000000  508849.000000"
      ]
     },
     "execution_count": 30,
     "metadata": {},
     "output_type": "execute_result"
    }
   ],
   "source": [
    "df_aprt.describe()[['YearBuilt', 'SalePrice']]\n",
    "# Melakukan pengecekan ulang pada dataset duplikat"
   ]
  },
  {
   "cell_type": "markdown",
   "metadata": {},
   "source": [
    "**Pengecekan Duplikat Data**"
   ]
  },
  {
   "cell_type": "code",
   "execution_count": 31,
   "metadata": {},
   "outputs": [
    {
     "data": {
      "text/plain": [
       "1334"
      ]
     },
     "execution_count": 31,
     "metadata": {},
     "output_type": "execute_result"
    }
   ],
   "source": [
    "# Cek data duplikat\n",
    "df_aprt.duplicated().sum()"
   ]
  },
  {
   "cell_type": "markdown",
   "metadata": {},
   "source": [
    "Terdapat 1343 data yang duplikat, maksudnya antar baris memiliki kesamaan data tiap fiturnya. Jika terdapat hal seperti ini, sebaiknya melakukan drop pada data yang duplikat agar tidak mempengaruhi hasil modeling"
   ]
  },
  {
   "cell_type": "code",
   "execution_count": 32,
   "metadata": {},
   "outputs": [],
   "source": [
    "# Melakukan drop data duplikat pada dataset\n",
    "df_aprt = df_aprt.drop_duplicates()"
   ]
  },
  {
   "cell_type": "code",
   "execution_count": 33,
   "metadata": {},
   "outputs": [
    {
     "data": {
      "text/plain": [
       "0"
      ]
     },
     "execution_count": 33,
     "metadata": {},
     "output_type": "execute_result"
    }
   ],
   "source": [
    "# Recheck Duplicate\n",
    "df_aprt.duplicated().sum()"
   ]
  },
  {
   "cell_type": "markdown",
   "metadata": {},
   "source": [
    "### **Clean Dataset**"
   ]
  },
  {
   "cell_type": "code",
   "execution_count": 34,
   "metadata": {},
   "outputs": [
    {
     "data": {
      "text/html": [
       "<div>\n",
       "<style scoped>\n",
       "    .dataframe tbody tr th:only-of-type {\n",
       "        vertical-align: middle;\n",
       "    }\n",
       "\n",
       "    .dataframe tbody tr th {\n",
       "        vertical-align: top;\n",
       "    }\n",
       "\n",
       "    .dataframe thead th {\n",
       "        text-align: right;\n",
       "    }\n",
       "</style>\n",
       "<table border=\"1\" class=\"dataframe\">\n",
       "  <thead>\n",
       "    <tr style=\"text-align: right;\">\n",
       "      <th></th>\n",
       "      <th>HallwayType</th>\n",
       "      <th>TimeToSubway</th>\n",
       "      <th>SubwayStation</th>\n",
       "      <th>N_FacilitiesNearBy(ETC)</th>\n",
       "      <th>N_FacilitiesNearBy(PublicOffice)</th>\n",
       "      <th>N_SchoolNearBy(University)</th>\n",
       "      <th>N_Parkinglot(Basement)</th>\n",
       "      <th>YearBuilt</th>\n",
       "      <th>N_FacilitiesInApt</th>\n",
       "      <th>Size(sqf)</th>\n",
       "      <th>SalePrice</th>\n",
       "    </tr>\n",
       "  </thead>\n",
       "  <tbody>\n",
       "    <tr>\n",
       "      <th>0</th>\n",
       "      <td>terraced</td>\n",
       "      <td>0-5min</td>\n",
       "      <td>Kyungbuk_uni_hospital</td>\n",
       "      <td>0.0</td>\n",
       "      <td>3.0</td>\n",
       "      <td>2.0</td>\n",
       "      <td>1270.0</td>\n",
       "      <td>2007</td>\n",
       "      <td>10</td>\n",
       "      <td>1387</td>\n",
       "      <td>346017</td>\n",
       "    </tr>\n",
       "    <tr>\n",
       "      <th>2</th>\n",
       "      <td>mixed</td>\n",
       "      <td>15min~20min</td>\n",
       "      <td>Chil-sung-market</td>\n",
       "      <td>1.0</td>\n",
       "      <td>7.0</td>\n",
       "      <td>3.0</td>\n",
       "      <td>56.0</td>\n",
       "      <td>1997</td>\n",
       "      <td>5</td>\n",
       "      <td>558</td>\n",
       "      <td>61946</td>\n",
       "    </tr>\n",
       "    <tr>\n",
       "      <th>3</th>\n",
       "      <td>mixed</td>\n",
       "      <td>5min~10min</td>\n",
       "      <td>Bangoge</td>\n",
       "      <td>5.0</td>\n",
       "      <td>5.0</td>\n",
       "      <td>4.0</td>\n",
       "      <td>798.0</td>\n",
       "      <td>2005</td>\n",
       "      <td>7</td>\n",
       "      <td>914</td>\n",
       "      <td>165486</td>\n",
       "    </tr>\n",
       "    <tr>\n",
       "      <th>4</th>\n",
       "      <td>terraced</td>\n",
       "      <td>0-5min</td>\n",
       "      <td>Sin-nam</td>\n",
       "      <td>0.0</td>\n",
       "      <td>1.0</td>\n",
       "      <td>2.0</td>\n",
       "      <td>536.0</td>\n",
       "      <td>2006</td>\n",
       "      <td>5</td>\n",
       "      <td>1743</td>\n",
       "      <td>311504</td>\n",
       "    </tr>\n",
       "    <tr>\n",
       "      <th>5</th>\n",
       "      <td>mixed</td>\n",
       "      <td>15min~20min</td>\n",
       "      <td>Chil-sung-market</td>\n",
       "      <td>1.0</td>\n",
       "      <td>7.0</td>\n",
       "      <td>3.0</td>\n",
       "      <td>56.0</td>\n",
       "      <td>1997</td>\n",
       "      <td>5</td>\n",
       "      <td>558</td>\n",
       "      <td>118584</td>\n",
       "    </tr>\n",
       "  </tbody>\n",
       "</table>\n",
       "</div>"
      ],
      "text/plain": [
       "  HallwayType TimeToSubway          SubwayStation  N_FacilitiesNearBy(ETC)  \\\n",
       "0    terraced       0-5min  Kyungbuk_uni_hospital                      0.0   \n",
       "2       mixed  15min~20min       Chil-sung-market                      1.0   \n",
       "3       mixed   5min~10min                Bangoge                      5.0   \n",
       "4    terraced       0-5min                Sin-nam                      0.0   \n",
       "5       mixed  15min~20min       Chil-sung-market                      1.0   \n",
       "\n",
       "   N_FacilitiesNearBy(PublicOffice)  N_SchoolNearBy(University)  \\\n",
       "0                               3.0                         2.0   \n",
       "2                               7.0                         3.0   \n",
       "3                               5.0                         4.0   \n",
       "4                               1.0                         2.0   \n",
       "5                               7.0                         3.0   \n",
       "\n",
       "   N_Parkinglot(Basement)  YearBuilt  N_FacilitiesInApt  Size(sqf)  SalePrice  \n",
       "0                  1270.0       2007                 10       1387     346017  \n",
       "2                    56.0       1997                  5        558      61946  \n",
       "3                   798.0       2005                  7        914     165486  \n",
       "4                   536.0       2006                  5       1743     311504  \n",
       "5                    56.0       1997                  5        558     118584  "
      ]
     },
     "execution_count": 34,
     "metadata": {},
     "output_type": "execute_result"
    }
   ],
   "source": [
    "# Cek dataset yang sudah bersih\n",
    "df_aprt.head()"
   ]
  },
  {
   "cell_type": "code",
   "execution_count": 35,
   "metadata": {},
   "outputs": [
    {
     "name": "stdout",
     "output_type": "stream",
     "text": [
      "<class 'pandas.core.frame.DataFrame'>\n",
      "Int64Index: 2312 entries, 0 to 4119\n",
      "Data columns (total 11 columns):\n",
      " #   Column                            Non-Null Count  Dtype  \n",
      "---  ------                            --------------  -----  \n",
      " 0   HallwayType                       2312 non-null   object \n",
      " 1   TimeToSubway                      2312 non-null   object \n",
      " 2   SubwayStation                     2312 non-null   object \n",
      " 3   N_FacilitiesNearBy(ETC)           2312 non-null   float64\n",
      " 4   N_FacilitiesNearBy(PublicOffice)  2312 non-null   float64\n",
      " 5   N_SchoolNearBy(University)        2312 non-null   float64\n",
      " 6   N_Parkinglot(Basement)            2312 non-null   float64\n",
      " 7   YearBuilt                         2312 non-null   int64  \n",
      " 8   N_FacilitiesInApt                 2312 non-null   int64  \n",
      " 9   Size(sqf)                         2312 non-null   int64  \n",
      " 10  SalePrice                         2312 non-null   int64  \n",
      "dtypes: float64(4), int64(4), object(3)\n",
      "memory usage: 216.8+ KB\n"
     ]
    }
   ],
   "source": [
    "df_aprt.info()"
   ]
  },
  {
   "cell_type": "markdown",
   "metadata": {},
   "source": [
    "Pada akhirnya hanya tersisa 2312 data yang akan digunakan dari 4123 data. Terdapat lebih dari 50% data yang telah di-drop atau tereliminasi berdasarkan argumen dan asumsi yang diberikan."
   ]
  },
  {
   "cell_type": "code",
   "execution_count": 36,
   "metadata": {},
   "outputs": [
    {
     "data": {
      "text/html": [
       "<div>\n",
       "<style scoped>\n",
       "    .dataframe tbody tr th:only-of-type {\n",
       "        vertical-align: middle;\n",
       "    }\n",
       "\n",
       "    .dataframe tbody tr th {\n",
       "        vertical-align: top;\n",
       "    }\n",
       "\n",
       "    .dataframe thead th {\n",
       "        text-align: right;\n",
       "    }\n",
       "</style>\n",
       "<table border=\"1\" class=\"dataframe\">\n",
       "  <thead>\n",
       "    <tr style=\"text-align: right;\">\n",
       "      <th></th>\n",
       "      <th>N_FacilitiesNearBy(ETC)</th>\n",
       "      <th>N_FacilitiesNearBy(PublicOffice)</th>\n",
       "      <th>N_SchoolNearBy(University)</th>\n",
       "      <th>N_Parkinglot(Basement)</th>\n",
       "      <th>YearBuilt</th>\n",
       "      <th>N_FacilitiesInApt</th>\n",
       "      <th>Size(sqf)</th>\n",
       "      <th>SalePrice</th>\n",
       "    </tr>\n",
       "  </thead>\n",
       "  <tbody>\n",
       "    <tr>\n",
       "      <th>count</th>\n",
       "      <td>2312.000000</td>\n",
       "      <td>2312.000000</td>\n",
       "      <td>2312.000000</td>\n",
       "      <td>2312.000000</td>\n",
       "      <td>2312.000000</td>\n",
       "      <td>2312.000000</td>\n",
       "      <td>2312.000000</td>\n",
       "      <td>2312.000000</td>\n",
       "    </tr>\n",
       "    <tr>\n",
       "      <th>mean</th>\n",
       "      <td>2.017734</td>\n",
       "      <td>3.959343</td>\n",
       "      <td>2.865052</td>\n",
       "      <td>587.528114</td>\n",
       "      <td>2004.662197</td>\n",
       "      <td>5.939446</td>\n",
       "      <td>941.214965</td>\n",
       "      <td>231695.641869</td>\n",
       "    </tr>\n",
       "    <tr>\n",
       "      <th>std</th>\n",
       "      <td>2.245653</td>\n",
       "      <td>1.965978</td>\n",
       "      <td>1.476763</td>\n",
       "      <td>395.629125</td>\n",
       "      <td>6.986083</td>\n",
       "      <td>2.368435</td>\n",
       "      <td>340.196733</td>\n",
       "      <td>101015.081368</td>\n",
       "    </tr>\n",
       "    <tr>\n",
       "      <th>min</th>\n",
       "      <td>0.000000</td>\n",
       "      <td>0.000000</td>\n",
       "      <td>0.000000</td>\n",
       "      <td>0.000000</td>\n",
       "      <td>1992.000000</td>\n",
       "      <td>1.000000</td>\n",
       "      <td>135.000000</td>\n",
       "      <td>32743.000000</td>\n",
       "    </tr>\n",
       "    <tr>\n",
       "      <th>25%</th>\n",
       "      <td>0.000000</td>\n",
       "      <td>2.000000</td>\n",
       "      <td>2.000000</td>\n",
       "      <td>203.000000</td>\n",
       "      <td>2005.000000</td>\n",
       "      <td>4.000000</td>\n",
       "      <td>743.000000</td>\n",
       "      <td>157942.000000</td>\n",
       "    </tr>\n",
       "    <tr>\n",
       "      <th>50%</th>\n",
       "      <td>1.000000</td>\n",
       "      <td>4.000000</td>\n",
       "      <td>2.000000</td>\n",
       "      <td>536.000000</td>\n",
       "      <td>2006.000000</td>\n",
       "      <td>5.000000</td>\n",
       "      <td>910.000000</td>\n",
       "      <td>227433.000000</td>\n",
       "    </tr>\n",
       "    <tr>\n",
       "      <th>75%</th>\n",
       "      <td>5.000000</td>\n",
       "      <td>6.000000</td>\n",
       "      <td>4.000000</td>\n",
       "      <td>798.000000</td>\n",
       "      <td>2008.000000</td>\n",
       "      <td>8.000000</td>\n",
       "      <td>1149.000000</td>\n",
       "      <td>302654.000000</td>\n",
       "    </tr>\n",
       "    <tr>\n",
       "      <th>max</th>\n",
       "      <td>5.000000</td>\n",
       "      <td>7.000000</td>\n",
       "      <td>5.000000</td>\n",
       "      <td>1321.000000</td>\n",
       "      <td>2015.000000</td>\n",
       "      <td>10.000000</td>\n",
       "      <td>1761.000000</td>\n",
       "      <td>508849.000000</td>\n",
       "    </tr>\n",
       "  </tbody>\n",
       "</table>\n",
       "</div>"
      ],
      "text/plain": [
       "       N_FacilitiesNearBy(ETC)  N_FacilitiesNearBy(PublicOffice)  \\\n",
       "count              2312.000000                       2312.000000   \n",
       "mean                  2.017734                          3.959343   \n",
       "std                   2.245653                          1.965978   \n",
       "min                   0.000000                          0.000000   \n",
       "25%                   0.000000                          2.000000   \n",
       "50%                   1.000000                          4.000000   \n",
       "75%                   5.000000                          6.000000   \n",
       "max                   5.000000                          7.000000   \n",
       "\n",
       "       N_SchoolNearBy(University)  N_Parkinglot(Basement)    YearBuilt  \\\n",
       "count                 2312.000000             2312.000000  2312.000000   \n",
       "mean                     2.865052              587.528114  2004.662197   \n",
       "std                      1.476763              395.629125     6.986083   \n",
       "min                      0.000000                0.000000  1992.000000   \n",
       "25%                      2.000000              203.000000  2005.000000   \n",
       "50%                      2.000000              536.000000  2006.000000   \n",
       "75%                      4.000000              798.000000  2008.000000   \n",
       "max                      5.000000             1321.000000  2015.000000   \n",
       "\n",
       "       N_FacilitiesInApt    Size(sqf)      SalePrice  \n",
       "count        2312.000000  2312.000000    2312.000000  \n",
       "mean            5.939446   941.214965  231695.641869  \n",
       "std             2.368435   340.196733  101015.081368  \n",
       "min             1.000000   135.000000   32743.000000  \n",
       "25%             4.000000   743.000000  157942.000000  \n",
       "50%             5.000000   910.000000  227433.000000  \n",
       "75%             8.000000  1149.000000  302654.000000  \n",
       "max            10.000000  1761.000000  508849.000000  "
      ]
     },
     "execution_count": 36,
     "metadata": {},
     "output_type": "execute_result"
    }
   ],
   "source": [
    "df_aprt.describe()"
   ]
  },
  {
   "cell_type": "code",
   "execution_count": 37,
   "metadata": {},
   "outputs": [
    {
     "data": {
      "text/html": [
       "<div>\n",
       "<style scoped>\n",
       "    .dataframe tbody tr th:only-of-type {\n",
       "        vertical-align: middle;\n",
       "    }\n",
       "\n",
       "    .dataframe tbody tr th {\n",
       "        vertical-align: top;\n",
       "    }\n",
       "\n",
       "    .dataframe thead th {\n",
       "        text-align: right;\n",
       "    }\n",
       "</style>\n",
       "<table border=\"1\" class=\"dataframe\">\n",
       "  <thead>\n",
       "    <tr style=\"text-align: right;\">\n",
       "      <th></th>\n",
       "      <th>HallwayType</th>\n",
       "      <th>TimeToSubway</th>\n",
       "      <th>SubwayStation</th>\n",
       "    </tr>\n",
       "  </thead>\n",
       "  <tbody>\n",
       "    <tr>\n",
       "      <th>count</th>\n",
       "      <td>2312</td>\n",
       "      <td>2312</td>\n",
       "      <td>2312</td>\n",
       "    </tr>\n",
       "    <tr>\n",
       "      <th>unique</th>\n",
       "      <td>3</td>\n",
       "      <td>5</td>\n",
       "      <td>8</td>\n",
       "    </tr>\n",
       "    <tr>\n",
       "      <th>top</th>\n",
       "      <td>terraced</td>\n",
       "      <td>0-5min</td>\n",
       "      <td>Myung-duk</td>\n",
       "    </tr>\n",
       "    <tr>\n",
       "      <th>freq</th>\n",
       "      <td>1434</td>\n",
       "      <td>1138</td>\n",
       "      <td>680</td>\n",
       "    </tr>\n",
       "  </tbody>\n",
       "</table>\n",
       "</div>"
      ],
      "text/plain": [
       "       HallwayType TimeToSubway SubwayStation\n",
       "count         2312         2312          2312\n",
       "unique           3            5             8\n",
       "top       terraced       0-5min     Myung-duk\n",
       "freq          1434         1138           680"
      ]
     },
     "execution_count": 37,
     "metadata": {},
     "output_type": "execute_result"
    }
   ],
   "source": [
    "df_aprt.describe(include='object')"
   ]
  },
  {
   "cell_type": "markdown",
   "metadata": {},
   "source": [
    "***\n",
    "## **Modeling**"
   ]
  },
  {
   "cell_type": "code",
   "execution_count": 38,
   "metadata": {},
   "outputs": [],
   "source": [
    "# Model Selection\n",
    "from sklearn.model_selection import train_test_split, cross_val_score, RandomizedSearchCV, GridSearchCV, KFold\n",
    "from sklearn.linear_model import LinearRegression\n",
    "from sklearn.neighbors import KNeighborsRegressor\n",
    "from sklearn.tree import DecisionTreeRegressor\n",
    "from sklearn.ensemble import RandomForestRegressor, GradientBoostingRegressor\n",
    "from xgboost.sklearn import XGBRegressor\n",
    "\n",
    "# Feature Engineering\n",
    "import category_encoders as ce\n",
    "from sklearn.impute import SimpleImputer\n",
    "from sklearn.preprocessing import OneHotEncoder, LabelEncoder, OrdinalEncoder\n",
    "from sklearn.compose import ColumnTransformer\n",
    "from sklearn.pipeline import Pipeline\n",
    "\n",
    "# Imbalance Dataset\n",
    "from imblearn.pipeline import Pipeline\n",
    "from imblearn.over_sampling import RandomOverSampler\n",
    "from sklearn.preprocessing import StandardScaler, PolynomialFeatures, RobustScaler\n",
    "\n",
    "from sklearn.metrics import r2_score, mean_squared_error, mean_absolute_error, mean_absolute_percentage_error\n",
    "\n",
    "# Ignore Warning\n",
    "import sys\n",
    "import warnings\n",
    "if not sys.warnoptions:\n",
    "    warnings.simplefilter(\"ignore\")\n",
    "\n",
    "# Set max columns\n",
    "pd.set_option('display.max_columns', None)"
   ]
  },
  {
   "cell_type": "markdown",
   "metadata": {},
   "source": [
    "**Encoding**"
   ]
  },
  {
   "cell_type": "code",
   "execution_count": 39,
   "metadata": {},
   "outputs": [],
   "source": [
    "# Mengubah fitur kategorikal ke numerikal\n",
    "ordinal_mapping = [\n",
    "    {'col':'TimeToSubway', 'mapping':{'no_bus_stop_nearby':0, '0-5min':1, '5min~10min':2, '10min~15min':3, '15min~20min':4} }\n",
    "]\n",
    "\n",
    "Ordinal_Encoder = ce.OrdinalEncoder(cols=['TimeToSubway'], mapping=ordinal_mapping)\n",
    "\n",
    "transformer = ColumnTransformer([\n",
    "    ('OneHot', OneHotEncoder(), ['HallwayType']),\n",
    "    ('Binary', ce.BinaryEncoder(), ['SubwayStation']),\n",
    "    ('Ordinal', Ordinal_Encoder, ['TimeToSubway'])\n",
    "], remainder='passthrough')"
   ]
  },
  {
   "cell_type": "markdown",
   "metadata": {},
   "source": [
    "Encoding:\n",
    "- Mengubah kategorikal fitur menjadi numerikal fitur agar dapat dilakukan proses modeling dengan tipe data yang sama.\n",
    "- OneHot Encoder dilakukan terhadap fitur 'HallwayType' yang memiliki jumlah unique data sebanyak 3 data (kurang dari 5).\n",
    "- Binary Encoder dilakukan terhadap fitur 'SubwayStation', karena memiliki jumlah unique  sebanyak 8 data (lebih dari 5).\n",
    "- Ordinal Encoder dilakukan terhadap fitur 'TimeToSubway', karena data akan diurutkan dari yang tercepat hingga terlama waktu sampai ke subway.\n"
   ]
  },
  {
   "cell_type": "markdown",
   "metadata": {},
   "source": [
    "**Data Splitting**"
   ]
  },
  {
   "cell_type": "code",
   "execution_count": 40,
   "metadata": {},
   "outputs": [],
   "source": [
    "X = df_aprt.drop(['SalePrice'], axis=1)\n",
    "y = df_aprt['SalePrice']\n",
    "\n",
    "X_train, X_test, y_train, y_test = train_test_split(\n",
    "    X, y, test_size=0.2, random_state=0\n",
    ")"
   ]
  },
  {
   "cell_type": "markdown",
   "metadata": {},
   "source": [
    "Data akan displit dengan X merupakan fitur-fitur, sedangkan y merupakan target. test_size yang digunakan 20% sehingga sisa nya merupakan training size 80%."
   ]
  },
  {
   "cell_type": "markdown",
   "metadata": {},
   "source": [
    "**Choose a Benchmark Model**\n",
    "\n",
    "Melakukan pemilihan algoritma regresi yang akan digunakan dalam pembangunan model"
   ]
  },
  {
   "cell_type": "code",
   "execution_count": 41,
   "metadata": {},
   "outputs": [
    {
     "name": "stdout",
     "output_type": "stream",
     "text": [
      "[-49944.91772397 -46089.30298844 -48280.08465507 -45724.83353737\n",
      " -50551.12760333] LinearRegression()\n",
      "[-48149.93579625 -46801.23596317 -48222.86093011 -45538.61711776\n",
      " -48821.71045257] KNeighborsRegressor()\n",
      "[-46084.217103   -44110.46381812 -45134.55694809 -43821.74081949\n",
      " -45643.48654656] DecisionTreeRegressor(random_state=0)\n",
      "[-46180.9826923  -44175.01343132 -45021.63416238 -43907.82082436\n",
      " -45721.82451063] RandomForestRegressor(random_state=0)\n",
      "[-46080.80684697 -44110.3403413  -45134.32593389 -43821.67001313\n",
      " -45637.81125168] XGBRegressor(base_score=None, booster=None, colsample_bylevel=None,\n",
      "             colsample_bynode=None, colsample_bytree=None,\n",
      "             enable_categorical=False, gamma=None, gpu_id=None,\n",
      "             importance_type=None, interaction_constraints=None,\n",
      "             learning_rate=None, max_delta_step=None, max_depth=None,\n",
      "             min_child_weight=None, missing=nan, monotone_constraints=None,\n",
      "             n_estimators=100, n_jobs=None, num_parallel_tree=None,\n",
      "             predictor=None, random_state=0, reg_alpha=None, reg_lambda=None,\n",
      "             scale_pos_weight=None, subsample=None, tree_method=None,\n",
      "             validate_parameters=None, verbosity=None)\n",
      "[-45567.92959951 -44148.5678759  -45102.64644776 -43372.00320394\n",
      " -45621.28716412] GradientBoostingRegressor(random_state=0)\n"
     ]
    }
   ],
   "source": [
    "# Define algoritma yang digunakan\n",
    "lr = LinearRegression()\n",
    "knn = KNeighborsRegressor()\n",
    "dt = DecisionTreeRegressor(random_state=0)\n",
    "rf = RandomForestRegressor(random_state=0)\n",
    "xgb = XGBRegressor(random_state=0)\n",
    "gb = GradientBoostingRegressor(random_state=0)\n",
    "\n",
    "# Scaling data\n",
    "scaler = StandardScaler()\n",
    "\n",
    "# Kandidat algoritma\n",
    "models = [lr, knn, dt, rf, xgb, gb]\n",
    "\n",
    "score_rmse = []\n",
    "nilai_mean_rmse = []\n",
    "nilai_std_rmse = []\n",
    "\n",
    "# Mencari algoritma terbaik berdasarkan nilai MAE\n",
    "for i in models:\n",
    "    crossval = KFold(n_splits=5, shuffle=True, random_state=0)\n",
    "\n",
    "    estimator = Pipeline([\n",
    "        ('preprocessing', transformer),\n",
    "        ('scaler', scaler),\n",
    "        ('model', i)\n",
    "    ])\n",
    "\n",
    "    # RMSE\n",
    "    model_cv_rmse = cross_val_score(\n",
    "        estimator,\n",
    "        X_train,\n",
    "        y_train,\n",
    "        cv = crossval,\n",
    "        scoring='neg_root_mean_squared_error',\n",
    "        error_score='raise'\n",
    "    )\n",
    "    print(model_cv_rmse, i)\n",
    "\n",
    "    score_rmse.append(model_cv_rmse)\n",
    "    nilai_mean_rmse.append(model_cv_rmse.mean())\n",
    "    nilai_std_rmse.append(model_cv_rmse.std())"
   ]
  },
  {
   "cell_type": "code",
   "execution_count": 42,
   "metadata": {},
   "outputs": [
    {
     "data": {
      "text/html": [
       "<div>\n",
       "<style scoped>\n",
       "    .dataframe tbody tr th:only-of-type {\n",
       "        vertical-align: middle;\n",
       "    }\n",
       "\n",
       "    .dataframe tbody tr th {\n",
       "        vertical-align: top;\n",
       "    }\n",
       "\n",
       "    .dataframe thead th {\n",
       "        text-align: right;\n",
       "    }\n",
       "</style>\n",
       "<table border=\"1\" class=\"dataframe\">\n",
       "  <thead>\n",
       "    <tr style=\"text-align: right;\">\n",
       "      <th></th>\n",
       "      <th>Model</th>\n",
       "      <th>Mean_RMSE</th>\n",
       "      <th>Std_RMSE</th>\n",
       "    </tr>\n",
       "  </thead>\n",
       "  <tbody>\n",
       "    <tr>\n",
       "      <th>0</th>\n",
       "      <td>Linear Regression</td>\n",
       "      <td>-48118.053302</td>\n",
       "      <td>1955.856181</td>\n",
       "    </tr>\n",
       "    <tr>\n",
       "      <th>1</th>\n",
       "      <td>KNN Regressor</td>\n",
       "      <td>-47506.872052</td>\n",
       "      <td>1185.489000</td>\n",
       "    </tr>\n",
       "    <tr>\n",
       "      <th>2</th>\n",
       "      <td>DecisionTree Regressor</td>\n",
       "      <td>-44958.893047</td>\n",
       "      <td>869.347760</td>\n",
       "    </tr>\n",
       "    <tr>\n",
       "      <th>3</th>\n",
       "      <td>RandomForest Regressor</td>\n",
       "      <td>-45001.455124</td>\n",
       "      <td>870.593635</td>\n",
       "    </tr>\n",
       "    <tr>\n",
       "      <th>4</th>\n",
       "      <td>XGBoost Regressor</td>\n",
       "      <td>-44956.990877</td>\n",
       "      <td>867.605559</td>\n",
       "    </tr>\n",
       "    <tr>\n",
       "      <th>5</th>\n",
       "      <td>GradientBoosting Regressor</td>\n",
       "      <td>-44762.486858</td>\n",
       "      <td>873.192514</td>\n",
       "    </tr>\n",
       "  </tbody>\n",
       "</table>\n",
       "</div>"
      ],
      "text/plain": [
       "                        Model     Mean_RMSE     Std_RMSE\n",
       "0           Linear Regression -48118.053302  1955.856181\n",
       "1               KNN Regressor -47506.872052  1185.489000\n",
       "2      DecisionTree Regressor -44958.893047   869.347760\n",
       "3      RandomForest Regressor -45001.455124   870.593635\n",
       "4           XGBoost Regressor -44956.990877   867.605559\n",
       "5  GradientBoosting Regressor -44762.486858   873.192514"
      ]
     },
     "execution_count": 42,
     "metadata": {},
     "output_type": "execute_result"
    }
   ],
   "source": [
    "# Evaluasi hasil dari 5 kandidat algoritma yang digunakan\n",
    "pd.DataFrame({\n",
    "    'Model': ['Linear Regression', 'KNN Regressor', 'DecisionTree Regressor', 'RandomForest Regressor', 'XGBoost Regressor', 'GradientBoosting Regressor'],\n",
    "    'Mean_RMSE': nilai_mean_rmse,\n",
    "    'Std_RMSE': nilai_std_rmse\n",
    "})"
   ]
  },
  {
   "cell_type": "markdown",
   "metadata": {},
   "source": [
    "- Berdasarkan rata-rata score RMSE yang paling rendah didapatkan, Model terbaiknya adalah **GradientBoost**\n",
    "- Akan tetapi, kita akan tetap melakukan tuning terhadap 3 model lain yang memiliki nilai yang paling mendekati dengan nilai RMSE GradientBoost, yaitu: Decision Tree, RandomForest, dan XGBoost"
   ]
  },
  {
   "cell_type": "markdown",
   "metadata": {},
   "source": [
    "## Hyperparameter Tuning"
   ]
  },
  {
   "cell_type": "markdown",
   "metadata": {},
   "source": [
    "**XGBoost**"
   ]
  },
  {
   "cell_type": "code",
   "execution_count": 43,
   "metadata": {},
   "outputs": [],
   "source": [
    "# Kedalaman pohon\n",
    "max_depth = list(np.arange(1,6))\n",
    "\n",
    "# Learning rate\n",
    "learning_rate = list(np.arange(1, 100)/100)\n",
    "\n",
    "# Jumlah pohon\n",
    "n_estimators = list(np.arange(100,201))\n",
    "\n",
    "# Jumlah baris tiap pohon (% dari total baris train set)\n",
    "subsample = list(np.arange(2, 10)/10)\n",
    "\n",
    "# Gamma (min_impurity_decrease)\n",
    "gamma = list(np.arange(1,11)) # Semakin besar nilainya, semakin konservatif/simpel modelnya\n",
    "\n",
    "# Jumlah feature yang digunakan untuk tiap pohon (% dari total kolom train set)\n",
    "colsample_bytree = list(np.arange(1, 10)/10)\n",
    "\n",
    "# Alpha (regularization)\n",
    "reg_alpha = list(np.logspace(-3, 1, 10)) # Semakin besar nilainya, semakin konservatif/simpel modelnya\n",
    "\n",
    "# Hyperparam space XGBoost\n",
    "hyperparam_space_xgb = {\n",
    "    'model__max_depth': max_depth,\n",
    "    'model__learning_rate': learning_rate,\n",
    "    'model__n_estimators': n_estimators,\n",
    "    'model__subsample': subsample,\n",
    "    'model__gamma': gamma,\n",
    "    'model__colsample_bytree': colsample_bytree,\n",
    "    'model__reg_alpha': reg_alpha\n",
    "}"
   ]
  },
  {
   "cell_type": "code",
   "execution_count": 44,
   "metadata": {},
   "outputs": [],
   "source": [
    "# Model 1 dengan hyperparameter tuning\n",
    "xgb = XGBRegressor(random_state=0)\n",
    "\n",
    "# Membuat algorithm chains\n",
    "estimator_xgb = Pipeline([\n",
    "    ('preprocessing', transformer),\n",
    "    ('scaler', scaler),\n",
    "    ('model', xgb)\n",
    "])\n",
    "\n",
    "crossval = KFold(n_splits=5, shuffle=True, random_state=0)\n",
    "\n",
    "# Hyperparameter tuning\n",
    "random_xgb = RandomizedSearchCV(\n",
    "    estimator_xgb,\n",
    "    param_distributions = hyperparam_space_xgb,\n",
    "    n_iter = 100,\n",
    "    cv = crossval,\n",
    "    scoring = ['neg_root_mean_squared_error'],\n",
    "    n_jobs = -1,\n",
    "    refit = 'neg_root_mean_squared_error', # hanya bisa memilih satu metrik untuk optimisasi\n",
    "    random_state = 0\n",
    ")"
   ]
  },
  {
   "cell_type": "code",
   "execution_count": 45,
   "metadata": {},
   "outputs": [
    {
     "data": {
      "text/plain": [
       "RandomizedSearchCV(cv=KFold(n_splits=5, random_state=0, shuffle=True),\n",
       "                   estimator=Pipeline(steps=[('preprocessing',\n",
       "                                              ColumnTransformer(remainder='passthrough',\n",
       "                                                                transformers=[('OneHot',\n",
       "                                                                               OneHotEncoder(),\n",
       "                                                                               ['HallwayType']),\n",
       "                                                                              ('Binary',\n",
       "                                                                               BinaryEncoder(),\n",
       "                                                                               ['SubwayStation']),\n",
       "                                                                              ('Ordinal',\n",
       "                                                                               OrdinalEncoder(cols=['TimeToSubway'],\n",
       "                                                                                              mapping=[{'col': 'TimeToSubway',\n",
       "                                                                                                        'mapping': {'0-5m...\n",
       "                                                                127, 128, 129, ...],\n",
       "                                        'model__reg_alpha': [0.001,\n",
       "                                                             0.0027825594022071257,\n",
       "                                                             0.007742636826811269,\n",
       "                                                             0.021544346900318832,\n",
       "                                                             0.05994842503189409,\n",
       "                                                             0.1668100537200059,\n",
       "                                                             0.46415888336127775,\n",
       "                                                             1.2915496650148828,\n",
       "                                                             3.593813663804626,\n",
       "                                                             10.0],\n",
       "                                        'model__subsample': [0.2, 0.3, 0.4, 0.5,\n",
       "                                                             0.6, 0.7, 0.8,\n",
       "                                                             0.9]},\n",
       "                   random_state=0, refit='neg_root_mean_squared_error',\n",
       "                   scoring=['neg_root_mean_squared_error'])"
      ]
     },
     "execution_count": 45,
     "metadata": {},
     "output_type": "execute_result"
    }
   ],
   "source": [
    "# Fitting data training untuk mencari parameter terbaik\n",
    "random_xgb.fit(X_train, y_train)"
   ]
  },
  {
   "cell_type": "code",
   "execution_count": 46,
   "metadata": {},
   "outputs": [
    {
     "data": {
      "text/html": [
       "<div>\n",
       "<style scoped>\n",
       "    .dataframe tbody tr th:only-of-type {\n",
       "        vertical-align: middle;\n",
       "    }\n",
       "\n",
       "    .dataframe tbody tr th {\n",
       "        vertical-align: top;\n",
       "    }\n",
       "\n",
       "    .dataframe thead th {\n",
       "        text-align: right;\n",
       "    }\n",
       "</style>\n",
       "<table border=\"1\" class=\"dataframe\">\n",
       "  <thead>\n",
       "    <tr style=\"text-align: right;\">\n",
       "      <th></th>\n",
       "      <th>rank_test_neg_root_mean_squared_error</th>\n",
       "      <th>mean_test_neg_root_mean_squared_error</th>\n",
       "      <th>std_test_neg_root_mean_squared_error</th>\n",
       "    </tr>\n",
       "  </thead>\n",
       "  <tbody>\n",
       "    <tr>\n",
       "      <th>17</th>\n",
       "      <td>1</td>\n",
       "      <td>-44814.653215</td>\n",
       "      <td>953.986586</td>\n",
       "    </tr>\n",
       "    <tr>\n",
       "      <th>58</th>\n",
       "      <td>2</td>\n",
       "      <td>-44824.806144</td>\n",
       "      <td>1053.152720</td>\n",
       "    </tr>\n",
       "    <tr>\n",
       "      <th>81</th>\n",
       "      <td>3</td>\n",
       "      <td>-44837.847597</td>\n",
       "      <td>984.314117</td>\n",
       "    </tr>\n",
       "    <tr>\n",
       "      <th>30</th>\n",
       "      <td>4</td>\n",
       "      <td>-44856.077972</td>\n",
       "      <td>1010.622828</td>\n",
       "    </tr>\n",
       "    <tr>\n",
       "      <th>33</th>\n",
       "      <td>5</td>\n",
       "      <td>-44857.792587</td>\n",
       "      <td>805.731066</td>\n",
       "    </tr>\n",
       "  </tbody>\n",
       "</table>\n",
       "</div>"
      ],
      "text/plain": [
       "    rank_test_neg_root_mean_squared_error  \\\n",
       "17                                      1   \n",
       "58                                      2   \n",
       "81                                      3   \n",
       "30                                      4   \n",
       "33                                      5   \n",
       "\n",
       "    mean_test_neg_root_mean_squared_error  \\\n",
       "17                          -44814.653215   \n",
       "58                          -44824.806144   \n",
       "81                          -44837.847597   \n",
       "30                          -44856.077972   \n",
       "33                          -44857.792587   \n",
       "\n",
       "    std_test_neg_root_mean_squared_error  \n",
       "17                            953.986586  \n",
       "58                           1053.152720  \n",
       "81                            984.314117  \n",
       "30                           1010.622828  \n",
       "33                            805.731066  "
      ]
     },
     "execution_count": 46,
     "metadata": {},
     "output_type": "execute_result"
    }
   ],
   "source": [
    "# Melihat hasil tuning dalam bentuk dataframe. Diurutkan berdasarkan RMSE\n",
    "cv_result_xgb = pd.DataFrame(random_xgb.cv_results_)\n",
    "cv_result_xgb[['rank_test_neg_root_mean_squared_error','mean_test_neg_root_mean_squared_error','std_test_neg_root_mean_squared_error']].sort_values(by=['rank_test_neg_root_mean_squared_error']).head()"
   ]
  },
  {
   "cell_type": "code",
   "execution_count": 47,
   "metadata": {},
   "outputs": [
    {
     "name": "stdout",
     "output_type": "stream",
     "text": [
      "XGBoost Regressor\n",
      "Best_score: -44814.653215126054\n",
      "Best_params: {'model__subsample': 0.7, 'model__reg_alpha': 0.021544346900318832, 'model__n_estimators': 160, 'model__max_depth': 5, 'model__learning_rate': 0.28, 'model__gamma': 7, 'model__colsample_bytree': 0.8}\n"
     ]
    }
   ],
   "source": [
    "# Cek skor dan params terbaik\n",
    "print('XGBoost Regressor')\n",
    "print('Best_score:', random_xgb.best_score_)\n",
    "print('Best_params:', random_xgb.best_params_)"
   ]
  },
  {
   "cell_type": "markdown",
   "metadata": {},
   "source": [
    "**Decision Tree**"
   ]
  },
  {
   "cell_type": "code",
   "execution_count": 48,
   "metadata": {},
   "outputs": [],
   "source": [
    "# hyperparameter space Decision Tree\n",
    "\n",
    "hyperparam_space_dt = {\n",
    "    'model__max_depth': list(range(1, 21)),            # Kedalaman pohon\n",
    "    'model__max_features': list(range(1, 6)),          # Jumlah feature untuk tiap splitting\n",
    "    'model__min_samples_split': list(range(2, 20)),    # Jumlah sample sebelum splitting\n",
    "    'model__min_samples_leaf' : list(range(2, 10))     # Jumlah sample sesudah splitting\n",
    "}"
   ]
  },
  {
   "cell_type": "code",
   "execution_count": 49,
   "metadata": {},
   "outputs": [],
   "source": [
    "# Model 2 dengan hyperparameter tuning\n",
    "dt = DecisionTreeRegressor(random_state=0)\n",
    "\n",
    "# Membuat algorithm chains\n",
    "estimator_dt = Pipeline([\n",
    "    ('preprocessing', transformer),\n",
    "    ('scaler', scaler),\n",
    "    ('model', dt)\n",
    "])\n",
    "\n",
    "crossval = KFold(n_splits=5, shuffle=True, random_state=0)\n",
    "\n",
    "# Hyperparameter tuning\n",
    "random_dt = RandomizedSearchCV(\n",
    "    estimator_dt,\n",
    "    param_distributions = hyperparam_space_dt,\n",
    "    n_iter = 100,\n",
    "    cv = crossval,\n",
    "    scoring = ['neg_root_mean_squared_error'],\n",
    "    n_jobs = -1,\n",
    "    refit = 'neg_root_mean_squared_error', # hanya bisa memilih satu metrik untuk optimisasi\n",
    "    random_state = 0\n",
    ")"
   ]
  },
  {
   "cell_type": "code",
   "execution_count": 50,
   "metadata": {},
   "outputs": [
    {
     "data": {
      "text/plain": [
       "RandomizedSearchCV(cv=KFold(n_splits=5, random_state=0, shuffle=True),\n",
       "                   estimator=Pipeline(steps=[('preprocessing',\n",
       "                                              ColumnTransformer(remainder='passthrough',\n",
       "                                                                transformers=[('OneHot',\n",
       "                                                                               OneHotEncoder(),\n",
       "                                                                               ['HallwayType']),\n",
       "                                                                              ('Binary',\n",
       "                                                                               BinaryEncoder(),\n",
       "                                                                               ['SubwayStation']),\n",
       "                                                                              ('Ordinal',\n",
       "                                                                               OrdinalEncoder(cols=['TimeToSubway'],\n",
       "                                                                                              mapping=[{'col': 'TimeToSubway',\n",
       "                                                                                                        'mapping': {'0-5m...\n",
       "                   n_iter=100, n_jobs=-1,\n",
       "                   param_distributions={'model__max_depth': [1, 2, 3, 4, 5, 6,\n",
       "                                                             7, 8, 9, 10, 11,\n",
       "                                                             12, 13, 14, 15, 16,\n",
       "                                                             17, 18, 19, 20],\n",
       "                                        'model__max_features': [1, 2, 3, 4, 5],\n",
       "                                        'model__min_samples_leaf': [2, 3, 4, 5,\n",
       "                                                                    6, 7, 8,\n",
       "                                                                    9],\n",
       "                                        'model__min_samples_split': [2, 3, 4, 5,\n",
       "                                                                     6, 7, 8, 9,\n",
       "                                                                     10, 11, 12,\n",
       "                                                                     13, 14, 15,\n",
       "                                                                     16, 17, 18,\n",
       "                                                                     19]},\n",
       "                   random_state=0, refit='neg_root_mean_squared_error',\n",
       "                   scoring=['neg_root_mean_squared_error'])"
      ]
     },
     "execution_count": 50,
     "metadata": {},
     "output_type": "execute_result"
    }
   ],
   "source": [
    "# Fitting data training untuk mencari parameter terbaik\n",
    "random_dt.fit(X_train, y_train)"
   ]
  },
  {
   "cell_type": "code",
   "execution_count": 51,
   "metadata": {},
   "outputs": [
    {
     "data": {
      "text/html": [
       "<div>\n",
       "<style scoped>\n",
       "    .dataframe tbody tr th:only-of-type {\n",
       "        vertical-align: middle;\n",
       "    }\n",
       "\n",
       "    .dataframe tbody tr th {\n",
       "        vertical-align: top;\n",
       "    }\n",
       "\n",
       "    .dataframe thead th {\n",
       "        text-align: right;\n",
       "    }\n",
       "</style>\n",
       "<table border=\"1\" class=\"dataframe\">\n",
       "  <thead>\n",
       "    <tr style=\"text-align: right;\">\n",
       "      <th></th>\n",
       "      <th>rank_test_neg_root_mean_squared_error</th>\n",
       "      <th>mean_test_neg_root_mean_squared_error</th>\n",
       "      <th>std_test_neg_root_mean_squared_error</th>\n",
       "    </tr>\n",
       "  </thead>\n",
       "  <tbody>\n",
       "    <tr>\n",
       "      <th>64</th>\n",
       "      <td>1</td>\n",
       "      <td>-45065.828975</td>\n",
       "      <td>952.251890</td>\n",
       "    </tr>\n",
       "    <tr>\n",
       "      <th>11</th>\n",
       "      <td>1</td>\n",
       "      <td>-45065.828975</td>\n",
       "      <td>952.251890</td>\n",
       "    </tr>\n",
       "    <tr>\n",
       "      <th>75</th>\n",
       "      <td>3</td>\n",
       "      <td>-45130.518237</td>\n",
       "      <td>921.882484</td>\n",
       "    </tr>\n",
       "    <tr>\n",
       "      <th>94</th>\n",
       "      <td>4</td>\n",
       "      <td>-45145.769404</td>\n",
       "      <td>827.530503</td>\n",
       "    </tr>\n",
       "    <tr>\n",
       "      <th>7</th>\n",
       "      <td>5</td>\n",
       "      <td>-45164.293412</td>\n",
       "      <td>933.251548</td>\n",
       "    </tr>\n",
       "  </tbody>\n",
       "</table>\n",
       "</div>"
      ],
      "text/plain": [
       "    rank_test_neg_root_mean_squared_error  \\\n",
       "64                                      1   \n",
       "11                                      1   \n",
       "75                                      3   \n",
       "94                                      4   \n",
       "7                                       5   \n",
       "\n",
       "    mean_test_neg_root_mean_squared_error  \\\n",
       "64                          -45065.828975   \n",
       "11                          -45065.828975   \n",
       "75                          -45130.518237   \n",
       "94                          -45145.769404   \n",
       "7                           -45164.293412   \n",
       "\n",
       "    std_test_neg_root_mean_squared_error  \n",
       "64                            952.251890  \n",
       "11                            952.251890  \n",
       "75                            921.882484  \n",
       "94                            827.530503  \n",
       "7                             933.251548  "
      ]
     },
     "execution_count": 51,
     "metadata": {},
     "output_type": "execute_result"
    }
   ],
   "source": [
    "# Melihat hasil tuning dalam bentuk dataframe. Diurutkan berdasarkan RMSE\n",
    "cv_result_dt = pd.DataFrame(random_dt.cv_results_)\n",
    "cv_result_dt[['rank_test_neg_root_mean_squared_error','mean_test_neg_root_mean_squared_error','std_test_neg_root_mean_squared_error']].sort_values(by=['rank_test_neg_root_mean_squared_error']).head()"
   ]
  },
  {
   "cell_type": "code",
   "execution_count": 52,
   "metadata": {},
   "outputs": [
    {
     "name": "stdout",
     "output_type": "stream",
     "text": [
      "Decision Tree Regressor\n",
      "Best_score: -45065.828974719014\n",
      "Best_params: {'model__min_samples_split': 6, 'model__min_samples_leaf': 2, 'model__max_features': 4, 'model__max_depth': 20}\n"
     ]
    }
   ],
   "source": [
    "# Cek skor dan params terbaik\n",
    "print('Decision Tree Regressor')\n",
    "print('Best_score:', random_dt.best_score_)\n",
    "print('Best_params:', random_dt.best_params_)"
   ]
  },
  {
   "cell_type": "markdown",
   "metadata": {},
   "source": [
    "**RandomForest**"
   ]
  },
  {
   "cell_type": "code",
   "execution_count": 53,
   "metadata": {},
   "outputs": [],
   "source": [
    "# Hyperparam Space Random Forest\n",
    "\n",
    "# Jumlah pohon pada random forest\n",
    "n_estimators = list(np.arange(100, 201))\n",
    "\n",
    "# Jumlah fitur yang perlu dipertimbangkan di setiap split\n",
    "max_features = list(np.arange(2, 11))\n",
    "\n",
    "# Kedalaman pohon\n",
    "max_depth = list(np.arange(1, 11))\n",
    "\n",
    "# Jumlah minimum sampel yang diperlukan untuk split sebuah node\n",
    "min_samples_split = list(np.arange(2, 21))\n",
    "\n",
    "# Jumlah minimum sampel yang diperlukan pada setiap leaf\n",
    "min_samples_leaf = list(np.arange(1, 21))\n",
    "\n",
    "\n",
    "hyperparam_space_rf = {\n",
    "    'model__n_estimators': n_estimators,\n",
    "    'model__max_features': max_features,\n",
    "    'model__max_depth': max_depth,\n",
    "    'model__min_samples_split': min_samples_split,\n",
    "    'model__min_samples_leaf': min_samples_leaf,\n",
    "}"
   ]
  },
  {
   "cell_type": "code",
   "execution_count": 54,
   "metadata": {},
   "outputs": [],
   "source": [
    "# Model 3 dengan hyperparameter tuning\n",
    "rf = RandomForestRegressor(random_state=0)\n",
    "\n",
    "# Membuat algorithm chains\n",
    "estimator_rf = Pipeline([\n",
    "    ('preprocessing', transformer),\n",
    "    ('scaler', scaler),\n",
    "    ('model', rf)\n",
    "])\n",
    "\n",
    "crossval = KFold(n_splits=5, shuffle=True, random_state=0)\n",
    "\n",
    "# Hyperparameter tuning\n",
    "random_rf = RandomizedSearchCV(\n",
    "    estimator_rf,\n",
    "    param_distributions = hyperparam_space_rf,\n",
    "    n_iter = 100,\n",
    "    cv = crossval,\n",
    "    scoring = ['neg_root_mean_squared_error'],\n",
    "    n_jobs = -1,\n",
    "    refit = 'neg_root_mean_squared_error', # hanya bisa memilih satu metrik untuk optimisasi\n",
    "    random_state = 0\n",
    ")"
   ]
  },
  {
   "cell_type": "code",
   "execution_count": 55,
   "metadata": {},
   "outputs": [
    {
     "data": {
      "text/plain": [
       "RandomizedSearchCV(cv=KFold(n_splits=5, random_state=0, shuffle=True),\n",
       "                   estimator=Pipeline(steps=[('preprocessing',\n",
       "                                              ColumnTransformer(remainder='passthrough',\n",
       "                                                                transformers=[('OneHot',\n",
       "                                                                               OneHotEncoder(),\n",
       "                                                                               ['HallwayType']),\n",
       "                                                                              ('Binary',\n",
       "                                                                               BinaryEncoder(),\n",
       "                                                                               ['SubwayStation']),\n",
       "                                                                              ('Ordinal',\n",
       "                                                                               OrdinalEncoder(cols=['TimeToSubway'],\n",
       "                                                                                              mapping=[{'col': 'TimeToSubway',\n",
       "                                                                                                        'mapping': {'0-5m...\n",
       "                                                                    9, 10, 11,\n",
       "                                                                    12, 13, 14,\n",
       "                                                                    15, 16, 17,\n",
       "                                                                    18, 19,\n",
       "                                                                    20],\n",
       "                                        'model__min_samples_split': [2, 3, 4, 5,\n",
       "                                                                     6, 7, 8, 9,\n",
       "                                                                     10, 11, 12,\n",
       "                                                                     13, 14, 15,\n",
       "                                                                     16, 17, 18,\n",
       "                                                                     19, 20],\n",
       "                                        'model__n_estimators': [100, 101, 102,\n",
       "                                                                103, 104, 105,\n",
       "                                                                106, 107, 108,\n",
       "                                                                109, 110, 111,\n",
       "                                                                112, 113, 114,\n",
       "                                                                115, 116, 117,\n",
       "                                                                118, 119, 120,\n",
       "                                                                121, 122, 123,\n",
       "                                                                124, 125, 126,\n",
       "                                                                127, 128, 129, ...]},\n",
       "                   random_state=0, refit='neg_root_mean_squared_error',\n",
       "                   scoring=['neg_root_mean_squared_error'])"
      ]
     },
     "execution_count": 55,
     "metadata": {},
     "output_type": "execute_result"
    }
   ],
   "source": [
    "# Fitting data training untuk mencari parameter terbaik\n",
    "random_rf.fit(X_train, y_train)"
   ]
  },
  {
   "cell_type": "code",
   "execution_count": 56,
   "metadata": {},
   "outputs": [
    {
     "data": {
      "text/html": [
       "<div>\n",
       "<style scoped>\n",
       "    .dataframe tbody tr th:only-of-type {\n",
       "        vertical-align: middle;\n",
       "    }\n",
       "\n",
       "    .dataframe tbody tr th {\n",
       "        vertical-align: top;\n",
       "    }\n",
       "\n",
       "    .dataframe thead th {\n",
       "        text-align: right;\n",
       "    }\n",
       "</style>\n",
       "<table border=\"1\" class=\"dataframe\">\n",
       "  <thead>\n",
       "    <tr style=\"text-align: right;\">\n",
       "      <th></th>\n",
       "      <th>rank_test_neg_root_mean_squared_error</th>\n",
       "      <th>mean_test_neg_root_mean_squared_error</th>\n",
       "      <th>std_test_neg_root_mean_squared_error</th>\n",
       "    </tr>\n",
       "  </thead>\n",
       "  <tbody>\n",
       "    <tr>\n",
       "      <th>96</th>\n",
       "      <td>1</td>\n",
       "      <td>-45100.855442</td>\n",
       "      <td>892.058531</td>\n",
       "    </tr>\n",
       "    <tr>\n",
       "      <th>52</th>\n",
       "      <td>2</td>\n",
       "      <td>-45118.992123</td>\n",
       "      <td>814.501158</td>\n",
       "    </tr>\n",
       "    <tr>\n",
       "      <th>22</th>\n",
       "      <td>3</td>\n",
       "      <td>-45141.951224</td>\n",
       "      <td>891.741891</td>\n",
       "    </tr>\n",
       "    <tr>\n",
       "      <th>76</th>\n",
       "      <td>4</td>\n",
       "      <td>-45152.270019</td>\n",
       "      <td>924.504803</td>\n",
       "    </tr>\n",
       "    <tr>\n",
       "      <th>5</th>\n",
       "      <td>5</td>\n",
       "      <td>-45168.560200</td>\n",
       "      <td>918.152787</td>\n",
       "    </tr>\n",
       "  </tbody>\n",
       "</table>\n",
       "</div>"
      ],
      "text/plain": [
       "    rank_test_neg_root_mean_squared_error  \\\n",
       "96                                      1   \n",
       "52                                      2   \n",
       "22                                      3   \n",
       "76                                      4   \n",
       "5                                       5   \n",
       "\n",
       "    mean_test_neg_root_mean_squared_error  \\\n",
       "96                          -45100.855442   \n",
       "52                          -45118.992123   \n",
       "22                          -45141.951224   \n",
       "76                          -45152.270019   \n",
       "5                           -45168.560200   \n",
       "\n",
       "    std_test_neg_root_mean_squared_error  \n",
       "96                            892.058531  \n",
       "52                            814.501158  \n",
       "22                            891.741891  \n",
       "76                            924.504803  \n",
       "5                             918.152787  "
      ]
     },
     "execution_count": 56,
     "metadata": {},
     "output_type": "execute_result"
    }
   ],
   "source": [
    "# Melihat hasil tuning dalam bentuk dataframe. Diurutkan berdasarkan RMSE\n",
    "cv_result_rf = pd.DataFrame(random_rf.cv_results_)\n",
    "cv_result_rf[['rank_test_neg_root_mean_squared_error','mean_test_neg_root_mean_squared_error','std_test_neg_root_mean_squared_error']].sort_values(by=['rank_test_neg_root_mean_squared_error']).head()"
   ]
  },
  {
   "cell_type": "code",
   "execution_count": 57,
   "metadata": {},
   "outputs": [
    {
     "name": "stdout",
     "output_type": "stream",
     "text": [
      "RandomForest Regressor\n",
      "Best_score: -45100.85544206841\n",
      "Best_params: {'model__n_estimators': 134, 'model__min_samples_split': 16, 'model__min_samples_leaf': 1, 'model__max_features': 10, 'model__max_depth': 10}\n"
     ]
    }
   ],
   "source": [
    "# Cek skor dan params terbaik\n",
    "print('RandomForest Regressor')\n",
    "print('Best_score:', random_rf.best_score_)\n",
    "print('Best_params:', random_rf.best_params_)"
   ]
  },
  {
   "cell_type": "markdown",
   "metadata": {},
   "source": [
    "**GradientBoost**"
   ]
  },
  {
   "cell_type": "code",
   "execution_count": 58,
   "metadata": {},
   "outputs": [],
   "source": [
    "# Kedalaman pohon\n",
    "max_depth = list(np.arange(1,10))\n",
    "\n",
    "# learning rate\n",
    "learning_rate = list(np.arange(1,100)/100)\n",
    "\n",
    "# Jumlah pohon\n",
    "n_estimators = list(np.arange(100,201))\n",
    "\n",
    "# Jumlah set train di setiap pohon (% of total number of train set rows)\n",
    "subsample = list(np.arange(2,10)/10)\n",
    "\n",
    "# Jumlah fitur yang digunakan untuk splitting (% of total number of train set columns)\n",
    "max_features = list(np.arange(1,10)/10)\n",
    "\n",
    "# Hyperparameter space Gradient Boost\n",
    "hyperparam_space_gb = {\n",
    "    'model__max_depth':max_depth ,\n",
    "    'model__learning_rate':learning_rate,\n",
    "    'model__n_estimators':n_estimators,\n",
    "    'model__subsample':subsample,\n",
    "    'model__max_features':max_features\n",
    "}"
   ]
  },
  {
   "cell_type": "code",
   "execution_count": 59,
   "metadata": {},
   "outputs": [],
   "source": [
    "# Model 3 dengan hyperparameter tuning\n",
    "gb = GradientBoostingRegressor(random_state=0)\n",
    "\n",
    "# Membuat algorithm chains\n",
    "estimator_gb = Pipeline([\n",
    "    ('preprocessing', transformer),\n",
    "    ('scaler', scaler),\n",
    "    ('model', gb)\n",
    "])\n",
    "\n",
    "crossval = KFold(n_splits=5, shuffle=True, random_state=0)\n",
    "\n",
    "# Hyperparameter tuning\n",
    "random_gb = RandomizedSearchCV(\n",
    "    estimator_gb,\n",
    "    param_distributions = hyperparam_space_gb,\n",
    "    n_iter = 100,\n",
    "    cv = crossval,\n",
    "    scoring = ['neg_root_mean_squared_error'],\n",
    "    n_jobs = -1,\n",
    "    refit = 'neg_root_mean_squared_error', # hanya bisa memilih satu metrik untuk optimisasi\n",
    "    random_state = 0\n",
    ")"
   ]
  },
  {
   "cell_type": "code",
   "execution_count": 60,
   "metadata": {},
   "outputs": [
    {
     "data": {
      "text/plain": [
       "RandomizedSearchCV(cv=KFold(n_splits=5, random_state=0, shuffle=True),\n",
       "                   estimator=Pipeline(steps=[('preprocessing',\n",
       "                                              ColumnTransformer(remainder='passthrough',\n",
       "                                                                transformers=[('OneHot',\n",
       "                                                                               OneHotEncoder(),\n",
       "                                                                               ['HallwayType']),\n",
       "                                                                              ('Binary',\n",
       "                                                                               BinaryEncoder(),\n",
       "                                                                               ['SubwayStation']),\n",
       "                                                                              ('Ordinal',\n",
       "                                                                               OrdinalEncoder(cols=['TimeToSubway'],\n",
       "                                                                                              mapping=[{'col': 'TimeToSubway',\n",
       "                                                                                                        'mapping': {'0-5m...\n",
       "                                        'model__max_features': [0.1, 0.2, 0.3,\n",
       "                                                                0.4, 0.5, 0.6,\n",
       "                                                                0.7, 0.8, 0.9],\n",
       "                                        'model__n_estimators': [100, 101, 102,\n",
       "                                                                103, 104, 105,\n",
       "                                                                106, 107, 108,\n",
       "                                                                109, 110, 111,\n",
       "                                                                112, 113, 114,\n",
       "                                                                115, 116, 117,\n",
       "                                                                118, 119, 120,\n",
       "                                                                121, 122, 123,\n",
       "                                                                124, 125, 126,\n",
       "                                                                127, 128, 129, ...],\n",
       "                                        'model__subsample': [0.2, 0.3, 0.4, 0.5,\n",
       "                                                             0.6, 0.7, 0.8,\n",
       "                                                             0.9]},\n",
       "                   random_state=0, refit='neg_root_mean_squared_error',\n",
       "                   scoring=['neg_root_mean_squared_error'])"
      ]
     },
     "execution_count": 60,
     "metadata": {},
     "output_type": "execute_result"
    }
   ],
   "source": [
    "# Fitting data training untuk mencari parameter terbaik\n",
    "random_gb.fit(X_train, y_train)"
   ]
  },
  {
   "cell_type": "code",
   "execution_count": 61,
   "metadata": {},
   "outputs": [
    {
     "data": {
      "text/html": [
       "<div>\n",
       "<style scoped>\n",
       "    .dataframe tbody tr th:only-of-type {\n",
       "        vertical-align: middle;\n",
       "    }\n",
       "\n",
       "    .dataframe tbody tr th {\n",
       "        vertical-align: top;\n",
       "    }\n",
       "\n",
       "    .dataframe thead th {\n",
       "        text-align: right;\n",
       "    }\n",
       "</style>\n",
       "<table border=\"1\" class=\"dataframe\">\n",
       "  <thead>\n",
       "    <tr style=\"text-align: right;\">\n",
       "      <th></th>\n",
       "      <th>rank_test_neg_root_mean_squared_error</th>\n",
       "      <th>mean_test_neg_root_mean_squared_error</th>\n",
       "      <th>std_test_neg_root_mean_squared_error</th>\n",
       "    </tr>\n",
       "  </thead>\n",
       "  <tbody>\n",
       "    <tr>\n",
       "      <th>88</th>\n",
       "      <td>1</td>\n",
       "      <td>-44773.832714</td>\n",
       "      <td>1221.315966</td>\n",
       "    </tr>\n",
       "    <tr>\n",
       "      <th>0</th>\n",
       "      <td>2</td>\n",
       "      <td>-44820.520390</td>\n",
       "      <td>913.670343</td>\n",
       "    </tr>\n",
       "    <tr>\n",
       "      <th>85</th>\n",
       "      <td>3</td>\n",
       "      <td>-44870.588502</td>\n",
       "      <td>1054.770181</td>\n",
       "    </tr>\n",
       "    <tr>\n",
       "      <th>8</th>\n",
       "      <td>4</td>\n",
       "      <td>-44880.695131</td>\n",
       "      <td>817.170373</td>\n",
       "    </tr>\n",
       "    <tr>\n",
       "      <th>58</th>\n",
       "      <td>5</td>\n",
       "      <td>-44907.424099</td>\n",
       "      <td>852.103931</td>\n",
       "    </tr>\n",
       "  </tbody>\n",
       "</table>\n",
       "</div>"
      ],
      "text/plain": [
       "    rank_test_neg_root_mean_squared_error  \\\n",
       "88                                      1   \n",
       "0                                       2   \n",
       "85                                      3   \n",
       "8                                       4   \n",
       "58                                      5   \n",
       "\n",
       "    mean_test_neg_root_mean_squared_error  \\\n",
       "88                          -44773.832714   \n",
       "0                           -44820.520390   \n",
       "85                          -44870.588502   \n",
       "8                           -44880.695131   \n",
       "58                          -44907.424099   \n",
       "\n",
       "    std_test_neg_root_mean_squared_error  \n",
       "88                           1221.315966  \n",
       "0                             913.670343  \n",
       "85                           1054.770181  \n",
       "8                             817.170373  \n",
       "58                            852.103931  "
      ]
     },
     "execution_count": 61,
     "metadata": {},
     "output_type": "execute_result"
    }
   ],
   "source": [
    "# Melihat hasil tuning dalam bentuk dataframe. Diurutkan berdasarkan RMSE\n",
    "cv_result_gb = pd.DataFrame(random_gb.cv_results_)\n",
    "cv_result_gb[['rank_test_neg_root_mean_squared_error','mean_test_neg_root_mean_squared_error','std_test_neg_root_mean_squared_error']].sort_values(by=['rank_test_neg_root_mean_squared_error']).head()"
   ]
  },
  {
   "cell_type": "code",
   "execution_count": 62,
   "metadata": {},
   "outputs": [
    {
     "name": "stdout",
     "output_type": "stream",
     "text": [
      "GradientBoosting Regressor\n",
      "Best_score: -44773.83271397006\n",
      "Best_params: {'model__subsample': 0.6, 'model__n_estimators': 112, 'model__max_features': 0.6, 'model__max_depth': 2, 'model__learning_rate': 0.51}\n"
     ]
    }
   ],
   "source": [
    "# Cek skor dan params terbaik\n",
    "print('GradientBoosting Regressor')\n",
    "print('Best_score:', random_gb.best_score_)\n",
    "print('Best_params:', random_gb.best_params_)"
   ]
  },
  {
   "cell_type": "markdown",
   "metadata": {},
   "source": [
    "## Model Performance in Test Set"
   ]
  },
  {
   "cell_type": "markdown",
   "metadata": {},
   "source": [
    "#### **Before Hyperparameter Tuning**"
   ]
  },
  {
   "cell_type": "code",
   "execution_count": 63,
   "metadata": {},
   "outputs": [
    {
     "data": {
      "text/html": [
       "<div>\n",
       "<style scoped>\n",
       "    .dataframe tbody tr th:only-of-type {\n",
       "        vertical-align: middle;\n",
       "    }\n",
       "\n",
       "    .dataframe tbody tr th {\n",
       "        vertical-align: top;\n",
       "    }\n",
       "\n",
       "    .dataframe thead th {\n",
       "        text-align: right;\n",
       "    }\n",
       "</style>\n",
       "<table border=\"1\" class=\"dataframe\">\n",
       "  <thead>\n",
       "    <tr style=\"text-align: right;\">\n",
       "      <th></th>\n",
       "      <th>RMSE</th>\n",
       "    </tr>\n",
       "  </thead>\n",
       "  <tbody>\n",
       "    <tr>\n",
       "      <th>XGB</th>\n",
       "      <td>44835.969689</td>\n",
       "    </tr>\n",
       "    <tr>\n",
       "      <th>RandomForest</th>\n",
       "      <td>44830.667365</td>\n",
       "    </tr>\n",
       "    <tr>\n",
       "      <th>DecisionTree</th>\n",
       "      <td>44835.966700</td>\n",
       "    </tr>\n",
       "    <tr>\n",
       "      <th>GradientBoost</th>\n",
       "      <td>44902.381084</td>\n",
       "    </tr>\n",
       "  </tbody>\n",
       "</table>\n",
       "</div>"
      ],
      "text/plain": [
       "                       RMSE\n",
       "XGB            44835.969689\n",
       "RandomForest   44830.667365\n",
       "DecisionTree   44835.966700\n",
       "GradientBoost  44902.381084"
      ]
     },
     "execution_count": 63,
     "metadata": {},
     "output_type": "execute_result"
    }
   ],
   "source": [
    "# Benchmark 4 model terbaik\n",
    "models = {\n",
    "    'XGB': XGBRegressor(random_state=0),\n",
    "    'RandomForest':RandomForestRegressor(random_state=0),\n",
    "    'DecisionTree':DecisionTreeRegressor(random_state=0),\n",
    "    'GradientBoost':GradientBoostingRegressor(random_state=0)\n",
    "}\n",
    "\n",
    "score_rmse = []\n",
    "score_mae = []\n",
    "score_mape = []\n",
    "\n",
    "# Prediksi pada test set\n",
    "for i in models:\n",
    "    model = Pipeline([\n",
    "        ('Preprocessing', transformer),\n",
    "        ('scaler', scaler),\n",
    "        ('model', models[i])\n",
    "    ])\n",
    "\n",
    "    model.fit(X_train, y_train)\n",
    "    y_pred = model.predict(X_test)\n",
    "    score_rmse.append(np.sqrt(mean_squared_error(y_test, y_pred)))\n",
    "    score_mae.append(mean_absolute_error(y_test, y_pred))\n",
    "    score_mape.append(mean_absolute_percentage_error(y_test, y_pred))\n",
    "\n",
    "score_before_tuning = pd.DataFrame({'RMSE': score_rmse}, index=models.keys())\n",
    "score_before_tuning\n"
   ]
  },
  {
   "cell_type": "markdown",
   "metadata": {},
   "source": [
    "Berdasarkan nilai RMSE sebelum dilakukan hyperparameter tuning, model terbaik adalah RandomForest"
   ]
  },
  {
   "cell_type": "markdown",
   "metadata": {},
   "source": [
    "#### **After Hyperparameter Tuning**\n",
    "\n",
    "**XGBoost**"
   ]
  },
  {
   "cell_type": "code",
   "execution_count": 64,
   "metadata": {},
   "outputs": [
    {
     "data": {
      "text/html": [
       "<div>\n",
       "<style scoped>\n",
       "    .dataframe tbody tr th:only-of-type {\n",
       "        vertical-align: middle;\n",
       "    }\n",
       "\n",
       "    .dataframe tbody tr th {\n",
       "        vertical-align: top;\n",
       "    }\n",
       "\n",
       "    .dataframe thead th {\n",
       "        text-align: right;\n",
       "    }\n",
       "</style>\n",
       "<table border=\"1\" class=\"dataframe\">\n",
       "  <thead>\n",
       "    <tr style=\"text-align: right;\">\n",
       "      <th></th>\n",
       "      <th>RMSE</th>\n",
       "    </tr>\n",
       "  </thead>\n",
       "  <tbody>\n",
       "    <tr>\n",
       "      <th>XGBoost</th>\n",
       "      <td>44772.127112</td>\n",
       "    </tr>\n",
       "  </tbody>\n",
       "</table>\n",
       "</div>"
      ],
      "text/plain": [
       "                 RMSE\n",
       "XGBoost  44772.127112"
      ]
     },
     "execution_count": 64,
     "metadata": {},
     "output_type": "execute_result"
    }
   ],
   "source": [
    "# Model XGBoost\n",
    "model = {'XGBoost': XGBRegressor(random_state=0)}\n",
    "\n",
    "# Define model terhadap estimator terbaik\n",
    "xgb_tuning = random_xgb.best_estimator_\n",
    "\n",
    "# Fitting model\n",
    "xgb_tuning.fit(X_train, y_train)\n",
    "\n",
    "# Prdict test set\n",
    "y_pred_xgb_tuning = xgb_tuning.predict(X_test)\n",
    "\n",
    "# Simpan nilai metrics RMSEE setelah tuning\n",
    "rmse_xgb_tuning =  np.sqrt(mean_squared_error(y_test, y_pred_xgb_tuning))\n",
    "\n",
    "score_after_tuning_xgb = pd.DataFrame({'RMSE': rmse_xgb_tuning}, index=model.keys())\n",
    "score_after_tuning_xgb"
   ]
  },
  {
   "cell_type": "markdown",
   "metadata": {},
   "source": [
    "**Decision Tree**"
   ]
  },
  {
   "cell_type": "code",
   "execution_count": 65,
   "metadata": {},
   "outputs": [
    {
     "data": {
      "text/html": [
       "<div>\n",
       "<style scoped>\n",
       "    .dataframe tbody tr th:only-of-type {\n",
       "        vertical-align: middle;\n",
       "    }\n",
       "\n",
       "    .dataframe tbody tr th {\n",
       "        vertical-align: top;\n",
       "    }\n",
       "\n",
       "    .dataframe thead th {\n",
       "        text-align: right;\n",
       "    }\n",
       "</style>\n",
       "<table border=\"1\" class=\"dataframe\">\n",
       "  <thead>\n",
       "    <tr style=\"text-align: right;\">\n",
       "      <th></th>\n",
       "      <th>RMSE</th>\n",
       "    </tr>\n",
       "  </thead>\n",
       "  <tbody>\n",
       "    <tr>\n",
       "      <th>DecisionTree</th>\n",
       "      <td>44873.870358</td>\n",
       "    </tr>\n",
       "  </tbody>\n",
       "</table>\n",
       "</div>"
      ],
      "text/plain": [
       "                      RMSE\n",
       "DecisionTree  44873.870358"
      ]
     },
     "execution_count": 65,
     "metadata": {},
     "output_type": "execute_result"
    }
   ],
   "source": [
    "# Model Decision Tree\n",
    "model = {'DecisionTree': DecisionTreeRegressor(random_state=0)}\n",
    "\n",
    "# Define model terhadap estimator terbaik\n",
    "dt_tuning = random_dt.best_estimator_\n",
    "\n",
    "# Fitting model\n",
    "dt_tuning.fit(X_train, y_train)\n",
    "\n",
    "# Prdict test set\n",
    "y_pred_dt_tuning = dt_tuning.predict(X_test)\n",
    "\n",
    "# Simpan nilai metrics RMSE setelah tuning\n",
    "rmse_dt_tuning =  np.sqrt(mean_squared_error(y_test, y_pred_dt_tuning))\n",
    "\n",
    "score_after_tuning_dt = pd.DataFrame({'RMSE': rmse_dt_tuning}, index=model.keys())\n",
    "score_after_tuning_dt"
   ]
  },
  {
   "cell_type": "markdown",
   "metadata": {},
   "source": [
    "**RandomForest**"
   ]
  },
  {
   "cell_type": "code",
   "execution_count": 66,
   "metadata": {},
   "outputs": [
    {
     "data": {
      "text/html": [
       "<div>\n",
       "<style scoped>\n",
       "    .dataframe tbody tr th:only-of-type {\n",
       "        vertical-align: middle;\n",
       "    }\n",
       "\n",
       "    .dataframe tbody tr th {\n",
       "        vertical-align: top;\n",
       "    }\n",
       "\n",
       "    .dataframe thead th {\n",
       "        text-align: right;\n",
       "    }\n",
       "</style>\n",
       "<table border=\"1\" class=\"dataframe\">\n",
       "  <thead>\n",
       "    <tr style=\"text-align: right;\">\n",
       "      <th></th>\n",
       "      <th>RMSE</th>\n",
       "    </tr>\n",
       "  </thead>\n",
       "  <tbody>\n",
       "    <tr>\n",
       "      <th>RandomForest</th>\n",
       "      <td>44889.430612</td>\n",
       "    </tr>\n",
       "  </tbody>\n",
       "</table>\n",
       "</div>"
      ],
      "text/plain": [
       "                      RMSE\n",
       "RandomForest  44889.430612"
      ]
     },
     "execution_count": 66,
     "metadata": {},
     "output_type": "execute_result"
    }
   ],
   "source": [
    "# Model randomforest\n",
    "model = {'RandomForest': RandomForestRegressor(random_state=0)}\n",
    "\n",
    "# Define model terhadap estimator terbaik\n",
    "rf_tuning = random_rf.best_estimator_\n",
    "\n",
    "# Fitting model\n",
    "rf_tuning.fit(X_train, y_train)\n",
    "\n",
    "# Prdict test set\n",
    "y_pred_rf_tuning = rf_tuning.predict(X_test)\n",
    "\n",
    "# Simpan nilai metrics RMSE setelah tuning\n",
    "rmse_rf_tuning =  np.sqrt(mean_squared_error(y_test, y_pred_rf_tuning))\n",
    "mae_rf_tuning = mean_absolute_error(y_test, y_pred_rf_tuning)\n",
    "mape_rf_tuning = mean_absolute_percentage_error(y_test, y_pred_rf_tuning)\n",
    "\n",
    "score_after_tuning_rf = pd.DataFrame({'RMSE': rmse_rf_tuning}, index=model.keys())\n",
    "score_after_tuning_rf"
   ]
  },
  {
   "cell_type": "markdown",
   "metadata": {},
   "source": [
    "**GradientBoost**"
   ]
  },
  {
   "cell_type": "code",
   "execution_count": 67,
   "metadata": {},
   "outputs": [
    {
     "data": {
      "text/html": [
       "<div>\n",
       "<style scoped>\n",
       "    .dataframe tbody tr th:only-of-type {\n",
       "        vertical-align: middle;\n",
       "    }\n",
       "\n",
       "    .dataframe tbody tr th {\n",
       "        vertical-align: top;\n",
       "    }\n",
       "\n",
       "    .dataframe thead th {\n",
       "        text-align: right;\n",
       "    }\n",
       "</style>\n",
       "<table border=\"1\" class=\"dataframe\">\n",
       "  <thead>\n",
       "    <tr style=\"text-align: right;\">\n",
       "      <th></th>\n",
       "      <th>RMSE</th>\n",
       "    </tr>\n",
       "  </thead>\n",
       "  <tbody>\n",
       "    <tr>\n",
       "      <th>GradientBoost</th>\n",
       "      <td>45095.204143</td>\n",
       "    </tr>\n",
       "  </tbody>\n",
       "</table>\n",
       "</div>"
      ],
      "text/plain": [
       "                       RMSE\n",
       "GradientBoost  45095.204143"
      ]
     },
     "execution_count": 67,
     "metadata": {},
     "output_type": "execute_result"
    }
   ],
   "source": [
    "# Model GradientBoost\n",
    "model = {'GradientBoost': GradientBoostingRegressor(random_state=0)}\n",
    "\n",
    "# Define model terhadap estimator terbaik\n",
    "gb_tuning = random_gb.best_estimator_\n",
    "\n",
    "# Fitting model\n",
    "gb_tuning.fit(X_train, y_train)\n",
    "\n",
    "# Prdict test set\n",
    "y_pred_gb_tuning = gb_tuning.predict(X_test)\n",
    "\n",
    "# Simpan nilai metrics RMSE setelah tuning\n",
    "rmse_gb_tuning =  np.sqrt(mean_squared_error(y_test, y_pred_gb_tuning))\n",
    "\n",
    "score_after_tuning_gb = pd.DataFrame({'RMSE': rmse_gb_tuning}, index=model.keys())\n",
    "score_after_tuning_gb"
   ]
  },
  {
   "cell_type": "markdown",
   "metadata": {},
   "source": [
    "**Recap Score RMSE**"
   ]
  },
  {
   "cell_type": "code",
   "execution_count": 68,
   "metadata": {},
   "outputs": [
    {
     "data": {
      "text/html": [
       "<div>\n",
       "<style scoped>\n",
       "    .dataframe tbody tr th:only-of-type {\n",
       "        vertical-align: middle;\n",
       "    }\n",
       "\n",
       "    .dataframe tbody tr th {\n",
       "        vertical-align: top;\n",
       "    }\n",
       "\n",
       "    .dataframe thead th {\n",
       "        text-align: right;\n",
       "    }\n",
       "</style>\n",
       "<table border=\"1\" class=\"dataframe\">\n",
       "  <thead>\n",
       "    <tr style=\"text-align: right;\">\n",
       "      <th></th>\n",
       "      <th>Model</th>\n",
       "      <th>RMSE Before Tuning</th>\n",
       "      <th>RMSE After Tuning</th>\n",
       "    </tr>\n",
       "  </thead>\n",
       "  <tbody>\n",
       "    <tr>\n",
       "      <th>0</th>\n",
       "      <td>XGBoost</td>\n",
       "      <td>44835.969689</td>\n",
       "      <td>44772.127112</td>\n",
       "    </tr>\n",
       "    <tr>\n",
       "      <th>1</th>\n",
       "      <td>Decision Tree</td>\n",
       "      <td>44835.966700</td>\n",
       "      <td>44873.870358</td>\n",
       "    </tr>\n",
       "    <tr>\n",
       "      <th>2</th>\n",
       "      <td>RandomForest</td>\n",
       "      <td>44830.667365</td>\n",
       "      <td>44889.430612</td>\n",
       "    </tr>\n",
       "    <tr>\n",
       "      <th>3</th>\n",
       "      <td>GradientBoost</td>\n",
       "      <td>44902.381084</td>\n",
       "      <td>45095.204143</td>\n",
       "    </tr>\n",
       "  </tbody>\n",
       "</table>\n",
       "</div>"
      ],
      "text/plain": [
       "           Model  RMSE Before Tuning  RMSE After Tuning\n",
       "0        XGBoost        44835.969689       44772.127112\n",
       "1  Decision Tree        44835.966700       44873.870358\n",
       "2   RandomForest        44830.667365       44889.430612\n",
       "3  GradientBoost        44902.381084       45095.204143"
      ]
     },
     "execution_count": 68,
     "metadata": {},
     "output_type": "execute_result"
    }
   ],
   "source": [
    "Recap_score = pd.DataFrame({\n",
    "    'Model': ['XGBoost','Decision Tree', 'RandomForest', 'GradientBoost'],\n",
    "    'RMSE Before Tuning': [score_before_tuning.loc['XGB']['RMSE'], score_before_tuning.loc['DecisionTree']['RMSE'], score_before_tuning.loc['RandomForest']['RMSE'], score_before_tuning.loc['GradientBoost']['RMSE']],\n",
    "    'RMSE After Tuning': [rmse_xgb_tuning, rmse_dt_tuning, rmse_rf_tuning, rmse_gb_tuning]\n",
    "})\n",
    "\n",
    "Recap_score.sort_values(by='RMSE After Tuning', ascending=True)"
   ]
  },
  {
   "cell_type": "markdown",
   "metadata": {},
   "source": [
    "Model Terbaik dengan nilai RMSE paling kecil adalah **XGBoost After Hyperparameter Tuning**\n",
    "- Model XGBoost Regressor yang akan digunakan sebagai final model"
   ]
  },
  {
   "cell_type": "markdown",
   "metadata": {},
   "source": [
    "## Final Model"
   ]
  },
  {
   "cell_type": "code",
   "execution_count": 69,
   "metadata": {},
   "outputs": [],
   "source": [
    "# Final Model XGBoost\n",
    "model = {'XGBoost': XGBRegressor(random_state=0)}\n",
    "\n",
    "# Define model terhadap estimator terbaik\n",
    "best_model = random_xgb.best_estimator_\n",
    "\n",
    "# Fitting model\n",
    "best_model.fit(X_train, y_train)\n",
    "\n",
    "# Prdict test set\n",
    "y_pred_best_model = best_model.predict(X_test)\n",
    "\n",
    "# Simpan nilai metrics RMSEE setelah tuning\n",
    "rmse_best_model =  np.sqrt(mean_squared_error(y_test, y_pred_best_model))"
   ]
  },
  {
   "cell_type": "markdown",
   "metadata": {},
   "source": [
    "***\n",
    "## Feature Importance"
   ]
  },
  {
   "cell_type": "code",
   "execution_count": 70,
   "metadata": {},
   "outputs": [
    {
     "data": {
      "text/plain": [
       "array([0.01096508, 0.00439793, 0.7680358 , 0.00510654, 0.00297497,\n",
       "       0.00433826, 0.00513408, 0.00855183, 0.01872729, 0.00823783,\n",
       "       0.00558585, 0.06487238, 0.03665889, 0.03103402, 0.02537914],\n",
       "      dtype=float32)"
      ]
     },
     "execution_count": 70,
     "metadata": {},
     "output_type": "execute_result"
    }
   ],
   "source": [
    "imp = best_model['model'].feature_importances_\n",
    "imp"
   ]
  },
  {
   "cell_type": "code",
   "execution_count": 71,
   "metadata": {},
   "outputs": [
    {
     "data": {
      "text/html": [
       "<div>\n",
       "<style scoped>\n",
       "    .dataframe tbody tr th:only-of-type {\n",
       "        vertical-align: middle;\n",
       "    }\n",
       "\n",
       "    .dataframe tbody tr th {\n",
       "        vertical-align: top;\n",
       "    }\n",
       "\n",
       "    .dataframe thead th {\n",
       "        text-align: right;\n",
       "    }\n",
       "</style>\n",
       "<table border=\"1\" class=\"dataframe\">\n",
       "  <thead>\n",
       "    <tr style=\"text-align: right;\">\n",
       "      <th></th>\n",
       "      <th>Importance</th>\n",
       "      <th>Feature</th>\n",
       "    </tr>\n",
       "  </thead>\n",
       "  <tbody>\n",
       "    <tr>\n",
       "      <th>2</th>\n",
       "      <td>0.768036</td>\n",
       "      <td>OneHot__x0_terraced</td>\n",
       "    </tr>\n",
       "    <tr>\n",
       "      <th>11</th>\n",
       "      <td>0.064872</td>\n",
       "      <td>N_Parkinglot(Basement)</td>\n",
       "    </tr>\n",
       "    <tr>\n",
       "      <th>12</th>\n",
       "      <td>0.036659</td>\n",
       "      <td>YearBuilt</td>\n",
       "    </tr>\n",
       "    <tr>\n",
       "      <th>13</th>\n",
       "      <td>0.031034</td>\n",
       "      <td>N_FacilitiesInApt</td>\n",
       "    </tr>\n",
       "    <tr>\n",
       "      <th>14</th>\n",
       "      <td>0.025379</td>\n",
       "      <td>Size(sqf)</td>\n",
       "    </tr>\n",
       "    <tr>\n",
       "      <th>8</th>\n",
       "      <td>0.018727</td>\n",
       "      <td>N_FacilitiesNearBy(ETC)</td>\n",
       "    </tr>\n",
       "    <tr>\n",
       "      <th>0</th>\n",
       "      <td>0.010965</td>\n",
       "      <td>OneHot__x0_corridor</td>\n",
       "    </tr>\n",
       "    <tr>\n",
       "      <th>7</th>\n",
       "      <td>0.008552</td>\n",
       "      <td>Ordinal__TimeToSubway</td>\n",
       "    </tr>\n",
       "    <tr>\n",
       "      <th>9</th>\n",
       "      <td>0.008238</td>\n",
       "      <td>N_FacilitiesNearBy(PublicOffice)</td>\n",
       "    </tr>\n",
       "    <tr>\n",
       "      <th>10</th>\n",
       "      <td>0.005586</td>\n",
       "      <td>N_SchoolNearBy(University)</td>\n",
       "    </tr>\n",
       "    <tr>\n",
       "      <th>6</th>\n",
       "      <td>0.005134</td>\n",
       "      <td>Binary__SubwayStation_3</td>\n",
       "    </tr>\n",
       "    <tr>\n",
       "      <th>3</th>\n",
       "      <td>0.005107</td>\n",
       "      <td>Binary__SubwayStation_0</td>\n",
       "    </tr>\n",
       "    <tr>\n",
       "      <th>1</th>\n",
       "      <td>0.004398</td>\n",
       "      <td>OneHot__x0_mixed</td>\n",
       "    </tr>\n",
       "    <tr>\n",
       "      <th>5</th>\n",
       "      <td>0.004338</td>\n",
       "      <td>Binary__SubwayStation_2</td>\n",
       "    </tr>\n",
       "    <tr>\n",
       "      <th>4</th>\n",
       "      <td>0.002975</td>\n",
       "      <td>Binary__SubwayStation_1</td>\n",
       "    </tr>\n",
       "  </tbody>\n",
       "</table>\n",
       "</div>"
      ],
      "text/plain": [
       "    Importance                           Feature\n",
       "2     0.768036               OneHot__x0_terraced\n",
       "11    0.064872            N_Parkinglot(Basement)\n",
       "12    0.036659                         YearBuilt\n",
       "13    0.031034                 N_FacilitiesInApt\n",
       "14    0.025379                         Size(sqf)\n",
       "8     0.018727           N_FacilitiesNearBy(ETC)\n",
       "0     0.010965               OneHot__x0_corridor\n",
       "7     0.008552             Ordinal__TimeToSubway\n",
       "9     0.008238  N_FacilitiesNearBy(PublicOffice)\n",
       "10    0.005586        N_SchoolNearBy(University)\n",
       "6     0.005134           Binary__SubwayStation_3\n",
       "3     0.005107           Binary__SubwayStation_0\n",
       "1     0.004398                  OneHot__x0_mixed\n",
       "5     0.004338           Binary__SubwayStation_2\n",
       "4     0.002975           Binary__SubwayStation_1"
      ]
     },
     "execution_count": 71,
     "metadata": {},
     "output_type": "execute_result"
    }
   ],
   "source": [
    "feature_importance = pd.DataFrame({'Importance':imp, 'Feature':transformer.get_feature_names()}).sort_values(by='Importance', ascending = False)\n",
    "feature_importance"
   ]
  },
  {
   "cell_type": "code",
   "execution_count": 72,
   "metadata": {},
   "outputs": [
    {
     "data": {
      "text/plain": [
       "<AxesSubplot:xlabel='Importance', ylabel='Feature'>"
      ]
     },
     "execution_count": 72,
     "metadata": {},
     "output_type": "execute_result"
    },
    {
     "data": {
      "image/png": "[encoded data removed]",
      "text/plain": [
       "<Figure size 1440x720 with 1 Axes>"
      ]
     },
     "metadata": {},
     "output_type": "display_data"
    }
   ],
   "source": [
    "plt.figure(figsize=(20,10))\n",
    "sns.set_theme(style=\"whitegrid\")\n",
    "sns.barplot(data=feature_importance, x='Importance', y='Feature', orient='h', palette='crest')"
   ]
  },
  {
   "cell_type": "markdown",
   "metadata": {},
   "source": [
    "- x0: 'HallwayType'"
   ]
  },
  {
   "cell_type": "markdown",
   "metadata": {},
   "source": [
    "### **Modeling After Feature Importance**"
   ]
  },
  {
   "cell_type": "markdown",
   "metadata": {},
   "source": [
    "**Data Splitting**"
   ]
  },
  {
   "cell_type": "code",
   "execution_count": 73,
   "metadata": {},
   "outputs": [],
   "source": [
    "# Mengubah fitur kategorikal ke numerikal\n",
    "transformer_final = ColumnTransformer([\n",
    "    ('Onehot', OneHotEncoder(), ['HallwayType'])\n",
    "], remainder='passthrough')"
   ]
  },
  {
   "cell_type": "code",
   "execution_count": 74,
   "metadata": {},
   "outputs": [],
   "source": [
    "X2 = df_aprt[['HallwayType','Size(sqf)','N_Parkinglot(Basement)','YearBuilt', 'N_FacilitiesInApt','N_FacilitiesNearBy(ETC)']]\n",
    "y2 = df_aprt['SalePrice']\n",
    "\n",
    "X2_train, X2_test, y2_train, y2_test = train_test_split(\n",
    "    X2, y2, test_size=0.2, random_state=0\n",
    ")\n",
    "\n",
    "scaler = StandardScaler()"
   ]
  },
  {
   "cell_type": "code",
   "execution_count": 75,
   "metadata": {},
   "outputs": [],
   "source": [
    "# Final model dengan hyperparameter tuning\n",
    "final_xgb = XGBRegressor(random_state=0)\n",
    "\n",
    "# Membuat algorithm chains\n",
    "estimator_final_xgb = Pipeline([\n",
    "    ('preprocessing', transformer_final),\n",
    "    ('scaler', scaler),\n",
    "    ('model', final_xgb)\n",
    "])\n",
    "\n",
    "crossval = KFold(n_splits=5, shuffle=True, random_state=0)\n",
    "\n",
    "# Hyperparameter tuning\n",
    "random_final_xgb = RandomizedSearchCV(\n",
    "    estimator_final_xgb,\n",
    "    param_distributions = hyperparam_space_xgb,\n",
    "    n_iter = 100,\n",
    "    cv = crossval,\n",
    "    scoring = ['neg_root_mean_squared_error'],\n",
    "    n_jobs = -1,\n",
    "    refit = 'neg_root_mean_squared_error', # hanya bisa memilih satu metrik untuk optimisasi\n",
    "    random_state = 0\n",
    ")"
   ]
  },
  {
   "cell_type": "code",
   "execution_count": 76,
   "metadata": {},
   "outputs": [
    {
     "data": {
      "text/plain": [
       "RandomizedSearchCV(cv=KFold(n_splits=5, random_state=0, shuffle=True),\n",
       "                   estimator=Pipeline(steps=[('preprocessing',\n",
       "                                              ColumnTransformer(remainder='passthrough',\n",
       "                                                                transformers=[('Onehot',\n",
       "                                                                               OneHotEncoder(),\n",
       "                                                                               ['HallwayType'])])),\n",
       "                                             ('scaler', StandardScaler()),\n",
       "                                             ('model',\n",
       "                                              XGBRegressor(base_score=None,\n",
       "                                                           booster=None,\n",
       "                                                           colsample_bylevel=None,\n",
       "                                                           colsample_bynode=None,\n",
       "                                                           colsample_byt...\n",
       "                                                                127, 128, 129, ...],\n",
       "                                        'model__reg_alpha': [0.001,\n",
       "                                                             0.0027825594022071257,\n",
       "                                                             0.007742636826811269,\n",
       "                                                             0.021544346900318832,\n",
       "                                                             0.05994842503189409,\n",
       "                                                             0.1668100537200059,\n",
       "                                                             0.46415888336127775,\n",
       "                                                             1.2915496650148828,\n",
       "                                                             3.593813663804626,\n",
       "                                                             10.0],\n",
       "                                        'model__subsample': [0.2, 0.3, 0.4, 0.5,\n",
       "                                                             0.6, 0.7, 0.8,\n",
       "                                                             0.9]},\n",
       "                   random_state=0, refit='neg_root_mean_squared_error',\n",
       "                   scoring=['neg_root_mean_squared_error'])"
      ]
     },
     "execution_count": 76,
     "metadata": {},
     "output_type": "execute_result"
    }
   ],
   "source": [
    "# Fitting data training untuk mencari parameter terbaik\n",
    "random_final_xgb.fit(X2_train, y2_train)"
   ]
  },
  {
   "cell_type": "code",
   "execution_count": 77,
   "metadata": {},
   "outputs": [
    {
     "data": {
      "text/html": [
       "<div>\n",
       "<style scoped>\n",
       "    .dataframe tbody tr th:only-of-type {\n",
       "        vertical-align: middle;\n",
       "    }\n",
       "\n",
       "    .dataframe tbody tr th {\n",
       "        vertical-align: top;\n",
       "    }\n",
       "\n",
       "    .dataframe thead th {\n",
       "        text-align: right;\n",
       "    }\n",
       "</style>\n",
       "<table border=\"1\" class=\"dataframe\">\n",
       "  <thead>\n",
       "    <tr style=\"text-align: right;\">\n",
       "      <th></th>\n",
       "      <th>rank_test_neg_root_mean_squared_error</th>\n",
       "      <th>mean_test_neg_root_mean_squared_error</th>\n",
       "      <th>std_test_neg_root_mean_squared_error</th>\n",
       "    </tr>\n",
       "  </thead>\n",
       "  <tbody>\n",
       "    <tr>\n",
       "      <th>81</th>\n",
       "      <td>1</td>\n",
       "      <td>-44706.862432</td>\n",
       "      <td>1031.140146</td>\n",
       "    </tr>\n",
       "    <tr>\n",
       "      <th>1</th>\n",
       "      <td>2</td>\n",
       "      <td>-44710.106624</td>\n",
       "      <td>947.332050</td>\n",
       "    </tr>\n",
       "    <tr>\n",
       "      <th>30</th>\n",
       "      <td>3</td>\n",
       "      <td>-44740.079090</td>\n",
       "      <td>1027.823237</td>\n",
       "    </tr>\n",
       "    <tr>\n",
       "      <th>22</th>\n",
       "      <td>4</td>\n",
       "      <td>-44786.761068</td>\n",
       "      <td>986.117789</td>\n",
       "    </tr>\n",
       "    <tr>\n",
       "      <th>35</th>\n",
       "      <td>5</td>\n",
       "      <td>-44791.494088</td>\n",
       "      <td>945.318434</td>\n",
       "    </tr>\n",
       "  </tbody>\n",
       "</table>\n",
       "</div>"
      ],
      "text/plain": [
       "    rank_test_neg_root_mean_squared_error  \\\n",
       "81                                      1   \n",
       "1                                       2   \n",
       "30                                      3   \n",
       "22                                      4   \n",
       "35                                      5   \n",
       "\n",
       "    mean_test_neg_root_mean_squared_error  \\\n",
       "81                          -44706.862432   \n",
       "1                           -44710.106624   \n",
       "30                          -44740.079090   \n",
       "22                          -44786.761068   \n",
       "35                          -44791.494088   \n",
       "\n",
       "    std_test_neg_root_mean_squared_error  \n",
       "81                           1031.140146  \n",
       "1                             947.332050  \n",
       "30                           1027.823237  \n",
       "22                            986.117789  \n",
       "35                            945.318434  "
      ]
     },
     "execution_count": 77,
     "metadata": {},
     "output_type": "execute_result"
    }
   ],
   "source": [
    "# Melihat hasil tuning dalam bentuk dataframe. Diurutkan berdasarkan RMSE\n",
    "cv_result_final_xgb = pd.DataFrame(random_final_xgb.cv_results_)\n",
    "cv_result_final_xgb[['rank_test_neg_root_mean_squared_error','mean_test_neg_root_mean_squared_error','std_test_neg_root_mean_squared_error']].sort_values(by=['rank_test_neg_root_mean_squared_error']).head()"
   ]
  },
  {
   "cell_type": "code",
   "execution_count": 78,
   "metadata": {},
   "outputs": [
    {
     "name": "stdout",
     "output_type": "stream",
     "text": [
      "XGBoost Regressor Final\n",
      "Best_score: -44706.862432015725\n",
      "Best_params: {'model__subsample': 0.5, 'model__reg_alpha': 3.593813663804626, 'model__n_estimators': 164, 'model__max_depth': 4, 'model__learning_rate': 0.08, 'model__gamma': 1, 'model__colsample_bytree': 0.9}\n"
     ]
    }
   ],
   "source": [
    "# Cek skor dan params terbaik\n",
    "print('XGBoost Regressor Final')\n",
    "print('Best_score:', random_final_xgb.best_score_)\n",
    "print('Best_params:', random_final_xgb.best_params_)"
   ]
  },
  {
   "cell_type": "code",
   "execution_count": 79,
   "metadata": {},
   "outputs": [
    {
     "name": "stdout",
     "output_type": "stream",
     "text": [
      "RMSE Final Model XGBoost Regressor: 44758.26674949274\n"
     ]
    }
   ],
   "source": [
    "# Final Model XGBoost\n",
    "model = {'XGBoost': XGBRegressor(random_state=0)}\n",
    "\n",
    "# Define model terhadap estimator terbaik\n",
    "final_model = random_final_xgb.best_estimator_\n",
    "\n",
    "# Fitting model\n",
    "final_model.fit(X2_train, y2_train)\n",
    "\n",
    "# Prdict test set\n",
    "y2_pred_final_model = final_model.predict(X2_test)\n",
    "\n",
    "# Simpan nilai metrics RMSEE setelah tuning\n",
    "rmse_final_model =  np.sqrt(mean_squared_error(y2_test, y2_pred_final_model))\n",
    "print('RMSE Final Model XGBoost Regressor:', rmse_final_model)"
   ]
  },
  {
   "cell_type": "markdown",
   "metadata": {},
   "source": [
    "## Conclusion"
   ]
  },
  {
   "cell_type": "markdown",
   "metadata": {},
   "source": [
    "Bedasarkan pemodelan regresi yang telah dilakukan, terdapat 6 fitur dari 10 fitur yang paling berpengaruh terhadap 'SalePrice', 6 fitur tersebut adalah 'HallwayType'(teracced), 'N_Parkinglot(Basement)', 'YearBuilt', 'N_FacilitiesInApt', 'Size(sqf)', dan 'N_FacilitiesNearBy(ETC)' yang diurutkan dari yang paling penting.\n",
    "1. Model mengalami pengurangan nilai RMSE sebesar 1% ketika hanya menggunakan feature importance, artinya model yang telah dibangun dapat dikurangi fitur yang kurang berpengaruh terhadap target sehingga model lebih simpel tetapi tetap mengurangi error.\n",
    "\n",
    "2. Nilai RMSE final model XGBoost Regressor setelah melakukan hyperparameter tuning, yaitu sebesar 44758 dollar.\n",
    "\n",
    "3. Dari nilai RMSE akhir, kita dapat menyimpulkan bahwa ketika model digunakan untuk memperkirakan harga jual apartment di Daegu, Korea Selatan dengan rentang nilai model (maksimal harga jual 508849 dollar), perkiraan harga akan meleset atau error sebesar 44758 dollar. Tidak menutup kemungkinan jika ada kemungkinan error pada prediksi yang dihasilkan lebih besar karena model masih cukup tinggi biasnya.\n",
    "\n",
    "4. Bias yang dihasilkan mungkin saja terjadi akibat fitur yang dikurangi dari dataset."
   ]
  },
  {
   "cell_type": "markdown",
   "metadata": {},
   "source": [
    "## Recommendation"
   ]
  },
  {
   "cell_type": "markdown",
   "metadata": {},
   "source": [
    "1. Penambahan fitur yang lebih berkaitan atau berpengaruh terhadap target('SalePrice'). Hal ini dapat dilihat dari analisis data, terlihat bahwa ada beberapa fitur yang tidak digunakan untuk project ini. Mungkin saja, fitur-fitur tersebut memiliki pengaruh yang lebih besar terhadap target. Pertimbangkan penggunaan fitur lain yang berhubungan dengan target. Model yang dikembangkan akan mengurangi error dari yang didapatkan sekarang dan bias pada model akan lebih kecil.\n",
    "\n",
    "2. Jika sudah menambahkan fitur dan penambahan data yang lebih banyak, bisa menggunakan algoritma yang lebih kompleks agar model dapat mengecilkan error"
   ]
  },
  {
   "cell_type": "markdown",
   "metadata": {},
   "source": [
    "## **Save Model**"
   ]
  },
  {
   "cell_type": "code",
   "execution_count": 80,
   "metadata": {},
   "outputs": [],
   "source": [
    "# Save model\n",
    "import pickle\n",
    "\n",
    "# Final Model XGBoost\n",
    "model = {'XGBoost': XGBRegressor(random_state=0)}\n",
    "\n",
    "# Define model terhadap estimator terbaik\n",
    "final_model = random_final_xgb.best_estimator_\n",
    "\n",
    "# Fitting model\n",
    "final_model.fit(X2_train, y2_train)\n",
    "\n",
    "# Prdict test set\n",
    "y2_pred_final_model = final_model.predict(X2_test)\n",
    "\n",
    "# Simpan nilai metrics RMSEE setelah tuning\n",
    "rmse_final_model =  np.sqrt(mean_squared_error(y2_test, y2_pred_final_model))\n",
    "\n",
    "pickle.dump(final_model, open('Model_Apartment_Daegu_XGB.sav', 'wb'))"
   ]
  },
  {
   "cell_type": "code",
   "execution_count": 81,
   "metadata": {},
   "outputs": [],
   "source": [
    "# # Load model\n",
    "\n",
    "# filename = 'Model_Apartment_Daegu_XGB.sav'\n",
    "# loaded_model = pickle.load(open(filename, 'rb'))"
   ]
  }
 ],
 "metadata": {
  "interpreter": {
   "hash": "47d6a2105ce8bc23dc657400c3cccb879e6b69c3f7e617a9fa92ef5cbe3eb64b"
  },
  "kernelspec": {
   "display_name": "Python 3.9.7 ('base')",
   "language": "python",
   "name": "python3"
  },
  "language_info": {
   "codemirror_mode": {
    "name": "ipython",
    "version": 3
   },
   "file_extension": ".py",
   "mimetype": "text/x-python",
   "name": "python",
   "nbconvert_exporter": "python",
   "pygments_lexer": "ipython3",
   "version": "3.9.7"
  },
  "orig_nbformat": 4
 },
 "nbformat": 4,
 "nbformat_minor": 2
}
